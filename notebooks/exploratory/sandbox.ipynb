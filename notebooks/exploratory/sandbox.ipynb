{
 "cells": [
  {
   "cell_type": "markdown",
   "metadata": {},
   "source": [
    "## Prerequisites"
   ]
  },
  {
   "cell_type": "code",
   "execution_count": 1,
   "metadata": {},
   "outputs": [],
   "source": [
    "%load_ext autoreload\n",
    "%autoreload 2"
   ]
  },
  {
   "cell_type": "code",
   "execution_count": 2,
   "metadata": {},
   "outputs": [],
   "source": [
    "from src.dataset.make_dataset import Dataset\n",
    "from src.features.build_features import *\n",
    "from src.model.train_model import train_lgb_folds\n",
    "\n",
    "from sklearn.preprocessing import LabelEncoder\n"
   ]
  },
  {
   "cell_type": "code",
   "execution_count": 12,
   "metadata": {},
   "outputs": [
    {
     "name": "stdout",
     "output_type": "stream",
     "text": [
      "Mem. usage decreased to 18.04 Mb (46.0% reduction)\n",
      "Mem. usage decreased to 18.03 Mb (45.9% reduction)\n"
     ]
    }
   ],
   "source": [
    "ds = Dataset()\n",
    "ds.load_raw(10000)"
   ]
  },
  {
   "cell_type": "code",
   "execution_count": 13,
   "metadata": {},
   "outputs": [],
   "source": [
    "ds.save_dataset(\"10000\")"
   ]
  },
  {
   "cell_type": "markdown",
   "metadata": {},
   "source": [
    "## Sandbox"
   ]
  },
  {
   "cell_type": "code",
   "execution_count": 11,
   "metadata": {},
   "outputs": [
    {
     "data": {
      "text/plain": [
       "dtype('uint8')"
      ]
     },
     "execution_count": 11,
     "metadata": {},
     "output_type": "execute_result"
    }
   ],
   "source": [
    "ds.X_train[\"id_32\"].dtype"
   ]
  },
  {
   "cell_type": "code",
   "execution_count": 21,
   "metadata": {
    "scrolled": true
   },
   "outputs": [
    {
     "name": "stderr",
     "output_type": "stream",
     "text": [
      "c:\\workspaceperso\\kaggle\\ieee-fraud-detection\\src\\features\\build_features.py:68: FutureWarning: elementwise comparison failed; returning scalar instead, but in the future will perform elementwise comparison\n",
      "  if(nan_constant in lbl.classes_):\n"
     ]
    }
   ],
   "source": [
    "ds.load_dataset()\n",
    "build_processed_dataset(ds)"
   ]
  },
  {
   "cell_type": "code",
   "execution_count": 25,
   "metadata": {},
   "outputs": [],
   "source": [
    "convert_category_cols(ds)"
   ]
  },
  {
   "cell_type": "code",
   "execution_count": null,
   "metadata": {},
   "outputs": [
    {
     "name": "stdout",
     "output_type": "stream",
     "text": [
      "Fold 1 started at Fri Aug  9 19:23:48 2019\n",
      "Training until validation scores don't improve for 50 rounds.\n",
      "[10]\ttraining's auc: 0.921922\ttraining's auc: 0.921958\tvalid_1's auc: 0.857517\tvalid_1's auc: 0.857624\n",
      "[20]\ttraining's auc: 0.940089\ttraining's auc: 0.940153\tvalid_1's auc: 0.869207\tvalid_1's auc: 0.869284\n",
      "[30]\ttraining's auc: 0.950925\ttraining's auc: 0.950929\tvalid_1's auc: 0.873964\tvalid_1's auc: 0.873989\n",
      "[40]\ttraining's auc: 0.958342\ttraining's auc: 0.958334\tvalid_1's auc: 0.876901\tvalid_1's auc: 0.876903\n",
      "[50]\ttraining's auc: 0.965441\ttraining's auc: 0.965437\tvalid_1's auc: 0.87969\tvalid_1's auc: 0.879701\n",
      "Did not meet early stopping. Best iteration is:\n",
      "[50]\ttraining's auc: 0.965441\ttraining's auc: 0.965437\tvalid_1's auc: 0.87969\tvalid_1's auc: 0.879701\n",
      "Fold 2 started at Fri Aug  9 19:25:44 2019\n"
     ]
    },
    {
     "name": "stderr",
     "output_type": "stream",
     "text": [
      "c:\\utilisateurs\\a557847\\appdata\\local\\continuum\\anaconda3\\envs\\ieee-fraud-detection\\lib\\site-packages\\sklearn\\preprocessing\\label.py:219: DataConversionWarning: A column-vector y was passed when a 1d array was expected. Please change the shape of y to (n_samples, ), for example using ravel().\n",
      "  y = column_or_1d(y, warn=True)\n",
      "c:\\utilisateurs\\a557847\\appdata\\local\\continuum\\anaconda3\\envs\\ieee-fraud-detection\\lib\\site-packages\\sklearn\\preprocessing\\label.py:252: DataConversionWarning: A column-vector y was passed when a 1d array was expected. Please change the shape of y to (n_samples, ), for example using ravel().\n",
      "  y = column_or_1d(y, warn=True)\n"
     ]
    },
    {
     "name": "stdout",
     "output_type": "stream",
     "text": [
      "Training until validation scores don't improve for 50 rounds.\n",
      "[10]\ttraining's auc: 0.920177\ttraining's auc: 0.920345\tvalid_1's auc: 0.880328\tvalid_1's auc: 0.880046\n",
      "[20]\ttraining's auc: 0.933209\ttraining's auc: 0.933212\tvalid_1's auc: 0.886362\tvalid_1's auc: 0.886119\n",
      "[30]\ttraining's auc: 0.946257\ttraining's auc: 0.946215\tvalid_1's auc: 0.896394\tvalid_1's auc: 0.896139\n",
      "[40]\ttraining's auc: 0.955613\ttraining's auc: 0.955612\tvalid_1's auc: 0.902452\tvalid_1's auc: 0.902504\n",
      "[50]\ttraining's auc: 0.964478\ttraining's auc: 0.964478\tvalid_1's auc: 0.909216\tvalid_1's auc: 0.909219\n",
      "Did not meet early stopping. Best iteration is:\n",
      "[50]\ttraining's auc: 0.964478\ttraining's auc: 0.964478\tvalid_1's auc: 0.909216\tvalid_1's auc: 0.909219\n",
      "Fold 3 started at Fri Aug  9 19:27:23 2019\n"
     ]
    },
    {
     "name": "stderr",
     "output_type": "stream",
     "text": [
      "c:\\utilisateurs\\a557847\\appdata\\local\\continuum\\anaconda3\\envs\\ieee-fraud-detection\\lib\\site-packages\\sklearn\\preprocessing\\label.py:219: DataConversionWarning: A column-vector y was passed when a 1d array was expected. Please change the shape of y to (n_samples, ), for example using ravel().\n",
      "  y = column_or_1d(y, warn=True)\n",
      "c:\\utilisateurs\\a557847\\appdata\\local\\continuum\\anaconda3\\envs\\ieee-fraud-detection\\lib\\site-packages\\sklearn\\preprocessing\\label.py:252: DataConversionWarning: A column-vector y was passed when a 1d array was expected. Please change the shape of y to (n_samples, ), for example using ravel().\n",
      "  y = column_or_1d(y, warn=True)\n"
     ]
    },
    {
     "name": "stdout",
     "output_type": "stream",
     "text": [
      "Training until validation scores don't improve for 50 rounds.\n",
      "[10]\ttraining's auc: 0.917656\ttraining's auc: 0.917404\tvalid_1's auc: 0.871289\tvalid_1's auc: 0.870114\n",
      "[20]\ttraining's auc: 0.933231\ttraining's auc: 0.933266\tvalid_1's auc: 0.881225\tvalid_1's auc: 0.881023\n",
      "[30]\ttraining's auc: 0.949601\ttraining's auc: 0.949584\tvalid_1's auc: 0.896133\tvalid_1's auc: 0.896155\n",
      "[40]\ttraining's auc: 0.958791\ttraining's auc: 0.958789\tvalid_1's auc: 0.901678\tvalid_1's auc: 0.901666\n",
      "[50]\ttraining's auc: 0.965881\ttraining's auc: 0.965878\tvalid_1's auc: 0.907729\tvalid_1's auc: 0.907723\n",
      "Did not meet early stopping. Best iteration is:\n",
      "[50]\ttraining's auc: 0.965881\ttraining's auc: 0.965878\tvalid_1's auc: 0.907729\tvalid_1's auc: 0.907723\n",
      "Fold 4 started at Fri Aug  9 19:28:58 2019\n"
     ]
    },
    {
     "name": "stderr",
     "output_type": "stream",
     "text": [
      "c:\\utilisateurs\\a557847\\appdata\\local\\continuum\\anaconda3\\envs\\ieee-fraud-detection\\lib\\site-packages\\sklearn\\preprocessing\\label.py:219: DataConversionWarning: A column-vector y was passed when a 1d array was expected. Please change the shape of y to (n_samples, ), for example using ravel().\n",
      "  y = column_or_1d(y, warn=True)\n",
      "c:\\utilisateurs\\a557847\\appdata\\local\\continuum\\anaconda3\\envs\\ieee-fraud-detection\\lib\\site-packages\\sklearn\\preprocessing\\label.py:252: DataConversionWarning: A column-vector y was passed when a 1d array was expected. Please change the shape of y to (n_samples, ), for example using ravel().\n",
      "  y = column_or_1d(y, warn=True)\n"
     ]
    },
    {
     "name": "stdout",
     "output_type": "stream",
     "text": [
      "Training until validation scores don't improve for 50 rounds.\n",
      "[10]\ttraining's auc: 0.917034\ttraining's auc: 0.916723\tvalid_1's auc: 0.893011\tvalid_1's auc: 0.893434\n",
      "[20]\ttraining's auc: 0.930983\ttraining's auc: 0.930975\tvalid_1's auc: 0.902247\tvalid_1's auc: 0.902418\n",
      "[30]\ttraining's auc: 0.945583\ttraining's auc: 0.945562\tvalid_1's auc: 0.912433\tvalid_1's auc: 0.912452\n",
      "[40]\ttraining's auc: 0.957509\ttraining's auc: 0.957504\tvalid_1's auc: 0.919886\tvalid_1's auc: 0.91987\n",
      "[50]\ttraining's auc: 0.964704\ttraining's auc: 0.964705\tvalid_1's auc: 0.925428\tvalid_1's auc: 0.925412\n",
      "Did not meet early stopping. Best iteration is:\n",
      "[50]\ttraining's auc: 0.964704\ttraining's auc: 0.964705\tvalid_1's auc: 0.925428\tvalid_1's auc: 0.925412\n",
      "Fold 5 started at Fri Aug  9 19:30:14 2019\n"
     ]
    },
    {
     "name": "stderr",
     "output_type": "stream",
     "text": [
      "c:\\utilisateurs\\a557847\\appdata\\local\\continuum\\anaconda3\\envs\\ieee-fraud-detection\\lib\\site-packages\\sklearn\\preprocessing\\label.py:219: DataConversionWarning: A column-vector y was passed when a 1d array was expected. Please change the shape of y to (n_samples, ), for example using ravel().\n",
      "  y = column_or_1d(y, warn=True)\n",
      "c:\\utilisateurs\\a557847\\appdata\\local\\continuum\\anaconda3\\envs\\ieee-fraud-detection\\lib\\site-packages\\sklearn\\preprocessing\\label.py:252: DataConversionWarning: A column-vector y was passed when a 1d array was expected. Please change the shape of y to (n_samples, ), for example using ravel().\n",
      "  y = column_or_1d(y, warn=True)\n"
     ]
    },
    {
     "name": "stdout",
     "output_type": "stream",
     "text": [
      "Training until validation scores don't improve for 50 rounds.\n",
      "[10]\ttraining's auc: 0.920105\ttraining's auc: 0.9198\tvalid_1's auc: 0.863412\tvalid_1's auc: 0.863661\n",
      "[20]\ttraining's auc: 0.932765\ttraining's auc: 0.932852\tvalid_1's auc: 0.87107\tvalid_1's auc: 0.871108\n"
     ]
    }
   ],
   "source": [
    "result = train_lgb_folds(ds)"
   ]
  },
  {
   "cell_type": "code",
   "execution_count": null,
   "metadata": {},
   "outputs": [],
   "source": []
  }
 ],
 "metadata": {
  "kernelspec": {
   "display_name": "Python 3",
   "language": "python",
   "name": "python3"
  },
  "language_info": {
   "codemirror_mode": {
    "name": "ipython",
    "version": 3
   },
   "file_extension": ".py",
   "mimetype": "text/x-python",
   "name": "python",
   "nbconvert_exporter": "python",
   "pygments_lexer": "ipython3",
   "version": "3.6.8"
  }
 },
 "nbformat": 4,
 "nbformat_minor": 2
}
