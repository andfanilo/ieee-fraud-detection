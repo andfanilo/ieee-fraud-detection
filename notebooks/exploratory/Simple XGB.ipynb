{
 "cells": [
  {
   "cell_type": "markdown",
   "metadata": {},
   "source": [
    "# Simple train test split XGBoost"
   ]
  },
  {
   "cell_type": "code",
   "execution_count": null,
   "metadata": {},
   "outputs": [],
   "source": [
    "from sklearn.model_selection import train_test_split\n",
    "from src.dataset.make_dataset import Dataset\n",
    "from src.features.build_features import build_processed_dataset\n",
    "from src.model.train_model import train_xgb"
   ]
  },
  {
   "cell_type": "code",
   "execution_count": null,
   "metadata": {},
   "outputs": [],
   "source": [
    "ds = Dataset()\n",
    "ds.load_dataset()"
   ]
  },
  {
   "cell_type": "code",
   "execution_count": null,
   "metadata": {},
   "outputs": [],
   "source": [
    "X_train, X_valid, y_train, y_valid = train_test_split(\n",
    "    ds.X_train, ds.y_train, test_size=0.3, random_state=0\n",
    ")\n",
    "result = train_xgb(\n",
    "    X_train,\n",
    "    X_valid,\n",
    "    y_train,\n",
    "    y_valid,\n",
    "    ds.X_train.columns,\n",
    "    {\n",
    "        \"eta\": 0.05,\n",
    "        \"max_depth\": 9,\n",
    "        \"objective\": \"binary:logistic\",\n",
    "        \"eval_metric\": \"auc\",\n",
    "        \"gamma\": 0.1,\n",
    "        \"subsample\": 0.9,\n",
    "        \"colsample_bytree\": 0.9,\n",
    "        \"verbosity\": 0,\n",
    "        \"random_state\": 1337,\n",
    "        \"nthread\": -1,\n",
    "    },\n",
    ")\n",
    "ds.submission[\"isFraud\"] = result[\"prediction\"]\n",
    "ds.write_submission(\"xgb\")"
   ]
  }
 ],
 "metadata": {
  "kernelspec": {
   "display_name": "Python 3",
   "language": "python",
   "name": "python3"
  },
  "language_info": {
   "codemirror_mode": {
    "name": "ipython",
    "version": 3
   },
   "file_extension": ".py",
   "mimetype": "text/x-python",
   "name": "python",
   "nbconvert_exporter": "python",
   "pygments_lexer": "ipython3",
   "version": "3.6.8"
  }
 },
 "nbformat": 4,
 "nbformat_minor": 2
}
