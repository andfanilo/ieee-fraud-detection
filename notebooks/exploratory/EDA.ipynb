{
 "cells": [
  {
   "cell_type": "markdown",
   "metadata": {},
   "source": [
    "# Exploratory Data Analysis\n",
    "\n",
    "...opportunity to compare [Altair](https://altair-viz.github.io/), [Seaborn](https://seaborn.pydata.org) and [plotly_express](https://plot.ly/python/plotly-express/) because why not.\n",
    "\n",
    "Inspiration :\n",
    "- https://www.kaggle.com/artgor/eda-and-models"
   ]
  },
  {
   "cell_type": "markdown",
   "metadata": {},
   "source": [
    "## Prerequisites"
   ]
  },
  {
   "cell_type": "code",
   "execution_count": 1,
   "metadata": {},
   "outputs": [],
   "source": [
    "%load_ext autoreload\n",
    "%autoreload 2"
   ]
  },
  {
   "cell_type": "code",
   "execution_count": 68,
   "metadata": {},
   "outputs": [],
   "source": [
    "from src.utils import printmd\n",
    "from src.dataset.utils import df_empty\n",
    "from src.dataset.make_dataset import Dataset\n",
    "from src.features.utils import *\n",
    "from src.features.build_features import *\n",
    "from src.visualization.visualize import *\n",
    "\n",
    "import numpy as np\n",
    "import pandas as pd\n",
    "\n",
    "%matplotlib inline\n",
    "sns.set(style=\"whitegrid\")\n",
    "\n",
    "#alt.renderers.enable('notebook') # for the notebook only \n",
    "\n",
    "import warnings\n",
    "warnings.filterwarnings(\"ignore\")"
   ]
  },
  {
   "cell_type": "code",
   "execution_count": 3,
   "metadata": {},
   "outputs": [],
   "source": [
    "ds = Dataset()\n",
    "ds.load_dataset()\n",
    "#build_processed_dataset(ds)"
   ]
  },
  {
   "cell_type": "code",
   "execution_count": 4,
   "metadata": {},
   "outputs": [],
   "source": [
    "X = ds.X_train.reset_index()\n",
    "y = ds.y_train.reset_index()['isFraud']\n",
    "X_test = ds.X_test.reset_index()\n",
    "X['label'] = y"
   ]
  },
  {
   "cell_type": "markdown",
   "metadata": {},
   "source": [
    "## Identity information"
   ]
  },
  {
   "cell_type": "code",
   "execution_count": 5,
   "metadata": {},
   "outputs": [
    {
     "name": "stdout",
     "output_type": "stream",
     "text": [
      "['id_01', 'id_02', 'id_03', 'id_04', 'id_05', 'id_06', 'id_07', 'id_08', 'id_09', 'id_10', 'id_11', 'id_12', 'id_13', 'id_14', 'id_15', 'id_16', 'id_17', 'id_18', 'id_19', 'id_20', 'id_21', 'id_22', 'id_23', 'id_24', 'id_25', 'id_26', 'id_27', 'id_28', 'id_29', 'id_30', 'id_31', 'id_32', 'id_33', 'id_34', 'id_35', 'id_36', 'id_37', 'id_38', 'DeviceType', 'DeviceInfo']\n"
     ]
    }
   ],
   "source": [
    "print(ds.identity_cols)"
   ]
  },
  {
   "cell_type": "code",
   "execution_count": 6,
   "metadata": {},
   "outputs": [
    {
     "name": "stdout",
     "output_type": "stream",
     "text": [
      "['id_12', 'id_13', 'id_14', 'id_15', 'id_16', 'id_17', 'id_18', 'id_19', 'id_20', 'id_21', 'id_22', 'id_23', 'id_24', 'id_25', 'id_26', 'id_27', 'id_28', 'id_29', 'id_30', 'id_31', 'id_32', 'id_33', 'id_34', 'id_35', 'id_36', 'id_37', 'id_38', 'DeviceType', 'DeviceInfo']\n"
     ]
    }
   ],
   "source": [
    "print(ds.identity_cols_categorical)"
   ]
  },
  {
   "cell_type": "code",
   "execution_count": 7,
   "metadata": {},
   "outputs": [
    {
     "data": {
      "text/html": [
       "<div>\n",
       "<style scoped>\n",
       "    .dataframe tbody tr th:only-of-type {\n",
       "        vertical-align: middle;\n",
       "    }\n",
       "\n",
       "    .dataframe tbody tr th {\n",
       "        vertical-align: top;\n",
       "    }\n",
       "\n",
       "    .dataframe thead th {\n",
       "        text-align: right;\n",
       "    }\n",
       "</style>\n",
       "<table border=\"1\" class=\"dataframe\">\n",
       "  <thead>\n",
       "    <tr style=\"text-align: right;\">\n",
       "      <th></th>\n",
       "      <th>train_count</th>\n",
       "      <th>test_count</th>\n",
       "      <th>type</th>\n",
       "    </tr>\n",
       "    <tr>\n",
       "      <th>col</th>\n",
       "      <th></th>\n",
       "      <th></th>\n",
       "      <th></th>\n",
       "    </tr>\n",
       "  </thead>\n",
       "  <tbody>\n",
       "    <tr>\n",
       "      <th>id_01</th>\n",
       "      <td>78</td>\n",
       "      <td>81</td>\n",
       "      <td>float32</td>\n",
       "    </tr>\n",
       "    <tr>\n",
       "      <th>id_02</th>\n",
       "      <td>115656</td>\n",
       "      <td>114869</td>\n",
       "      <td>float32</td>\n",
       "    </tr>\n",
       "    <tr>\n",
       "      <th>id_03</th>\n",
       "      <td>25</td>\n",
       "      <td>23</td>\n",
       "      <td>float32</td>\n",
       "    </tr>\n",
       "    <tr>\n",
       "      <th>id_04</th>\n",
       "      <td>16</td>\n",
       "      <td>16</td>\n",
       "      <td>float32</td>\n",
       "    </tr>\n",
       "    <tr>\n",
       "      <th>id_05</th>\n",
       "      <td>94</td>\n",
       "      <td>91</td>\n",
       "      <td>float32</td>\n",
       "    </tr>\n",
       "    <tr>\n",
       "      <th>id_06</th>\n",
       "      <td>102</td>\n",
       "      <td>102</td>\n",
       "      <td>float32</td>\n",
       "    </tr>\n",
       "    <tr>\n",
       "      <th>id_07</th>\n",
       "      <td>85</td>\n",
       "      <td>82</td>\n",
       "      <td>float32</td>\n",
       "    </tr>\n",
       "    <tr>\n",
       "      <th>id_08</th>\n",
       "      <td>95</td>\n",
       "      <td>91</td>\n",
       "      <td>float32</td>\n",
       "    </tr>\n",
       "    <tr>\n",
       "      <th>id_09</th>\n",
       "      <td>47</td>\n",
       "      <td>39</td>\n",
       "      <td>float32</td>\n",
       "    </tr>\n",
       "    <tr>\n",
       "      <th>id_10</th>\n",
       "      <td>63</td>\n",
       "      <td>53</td>\n",
       "      <td>float32</td>\n",
       "    </tr>\n",
       "    <tr>\n",
       "      <th>id_11</th>\n",
       "      <td>366</td>\n",
       "      <td>302</td>\n",
       "      <td>float32</td>\n",
       "    </tr>\n",
       "    <tr>\n",
       "      <th>id_12</th>\n",
       "      <td>3</td>\n",
       "      <td>3</td>\n",
       "      <td>object</td>\n",
       "    </tr>\n",
       "    <tr>\n",
       "      <th>id_13</th>\n",
       "      <td>55</td>\n",
       "      <td>28</td>\n",
       "      <td>float32</td>\n",
       "    </tr>\n",
       "    <tr>\n",
       "      <th>id_14</th>\n",
       "      <td>26</td>\n",
       "      <td>28</td>\n",
       "      <td>float32</td>\n",
       "    </tr>\n",
       "    <tr>\n",
       "      <th>id_15</th>\n",
       "      <td>4</td>\n",
       "      <td>4</td>\n",
       "      <td>object</td>\n",
       "    </tr>\n",
       "    <tr>\n",
       "      <th>id_16</th>\n",
       "      <td>3</td>\n",
       "      <td>3</td>\n",
       "      <td>object</td>\n",
       "    </tr>\n",
       "    <tr>\n",
       "      <th>id_17</th>\n",
       "      <td>105</td>\n",
       "      <td>104</td>\n",
       "      <td>float32</td>\n",
       "    </tr>\n",
       "    <tr>\n",
       "      <th>id_18</th>\n",
       "      <td>19</td>\n",
       "      <td>18</td>\n",
       "      <td>float32</td>\n",
       "    </tr>\n",
       "    <tr>\n",
       "      <th>id_19</th>\n",
       "      <td>523</td>\n",
       "      <td>503</td>\n",
       "      <td>float32</td>\n",
       "    </tr>\n",
       "    <tr>\n",
       "      <th>id_20</th>\n",
       "      <td>395</td>\n",
       "      <td>437</td>\n",
       "      <td>float32</td>\n",
       "    </tr>\n",
       "    <tr>\n",
       "      <th>id_21</th>\n",
       "      <td>491</td>\n",
       "      <td>444</td>\n",
       "      <td>float32</td>\n",
       "    </tr>\n",
       "    <tr>\n",
       "      <th>id_22</th>\n",
       "      <td>26</td>\n",
       "      <td>27</td>\n",
       "      <td>float32</td>\n",
       "    </tr>\n",
       "    <tr>\n",
       "      <th>id_23</th>\n",
       "      <td>4</td>\n",
       "      <td>4</td>\n",
       "      <td>object</td>\n",
       "    </tr>\n",
       "    <tr>\n",
       "      <th>id_24</th>\n",
       "      <td>13</td>\n",
       "      <td>16</td>\n",
       "      <td>float32</td>\n",
       "    </tr>\n",
       "    <tr>\n",
       "      <th>id_25</th>\n",
       "      <td>342</td>\n",
       "      <td>310</td>\n",
       "      <td>float32</td>\n",
       "    </tr>\n",
       "    <tr>\n",
       "      <th>id_26</th>\n",
       "      <td>96</td>\n",
       "      <td>95</td>\n",
       "      <td>float32</td>\n",
       "    </tr>\n",
       "    <tr>\n",
       "      <th>id_27</th>\n",
       "      <td>3</td>\n",
       "      <td>3</td>\n",
       "      <td>object</td>\n",
       "    </tr>\n",
       "    <tr>\n",
       "      <th>id_28</th>\n",
       "      <td>3</td>\n",
       "      <td>3</td>\n",
       "      <td>object</td>\n",
       "    </tr>\n",
       "    <tr>\n",
       "      <th>id_29</th>\n",
       "      <td>3</td>\n",
       "      <td>3</td>\n",
       "      <td>object</td>\n",
       "    </tr>\n",
       "    <tr>\n",
       "      <th>id_30</th>\n",
       "      <td>76</td>\n",
       "      <td>87</td>\n",
       "      <td>object</td>\n",
       "    </tr>\n",
       "    <tr>\n",
       "      <th>id_31</th>\n",
       "      <td>131</td>\n",
       "      <td>136</td>\n",
       "      <td>object</td>\n",
       "    </tr>\n",
       "    <tr>\n",
       "      <th>id_32</th>\n",
       "      <td>5</td>\n",
       "      <td>6</td>\n",
       "      <td>float32</td>\n",
       "    </tr>\n",
       "    <tr>\n",
       "      <th>id_33</th>\n",
       "      <td>261</td>\n",
       "      <td>391</td>\n",
       "      <td>object</td>\n",
       "    </tr>\n",
       "    <tr>\n",
       "      <th>id_34</th>\n",
       "      <td>5</td>\n",
       "      <td>3</td>\n",
       "      <td>object</td>\n",
       "    </tr>\n",
       "    <tr>\n",
       "      <th>id_35</th>\n",
       "      <td>3</td>\n",
       "      <td>3</td>\n",
       "      <td>object</td>\n",
       "    </tr>\n",
       "    <tr>\n",
       "      <th>id_36</th>\n",
       "      <td>3</td>\n",
       "      <td>3</td>\n",
       "      <td>object</td>\n",
       "    </tr>\n",
       "    <tr>\n",
       "      <th>id_37</th>\n",
       "      <td>3</td>\n",
       "      <td>3</td>\n",
       "      <td>object</td>\n",
       "    </tr>\n",
       "    <tr>\n",
       "      <th>id_38</th>\n",
       "      <td>3</td>\n",
       "      <td>3</td>\n",
       "      <td>object</td>\n",
       "    </tr>\n",
       "  </tbody>\n",
       "</table>\n",
       "</div>"
      ],
      "text/plain": [
       "       train_count  test_count     type\n",
       "col                                    \n",
       "id_01           78          81  float32\n",
       "id_02       115656      114869  float32\n",
       "id_03           25          23  float32\n",
       "id_04           16          16  float32\n",
       "id_05           94          91  float32\n",
       "id_06          102         102  float32\n",
       "id_07           85          82  float32\n",
       "id_08           95          91  float32\n",
       "id_09           47          39  float32\n",
       "id_10           63          53  float32\n",
       "id_11          366         302  float32\n",
       "id_12            3           3   object\n",
       "id_13           55          28  float32\n",
       "id_14           26          28  float32\n",
       "id_15            4           4   object\n",
       "id_16            3           3   object\n",
       "id_17          105         104  float32\n",
       "id_18           19          18  float32\n",
       "id_19          523         503  float32\n",
       "id_20          395         437  float32\n",
       "id_21          491         444  float32\n",
       "id_22           26          27  float32\n",
       "id_23            4           4   object\n",
       "id_24           13          16  float32\n",
       "id_25          342         310  float32\n",
       "id_26           96          95  float32\n",
       "id_27            3           3   object\n",
       "id_28            3           3   object\n",
       "id_29            3           3   object\n",
       "id_30           76          87   object\n",
       "id_31          131         136   object\n",
       "id_32            5           6  float32\n",
       "id_33          261         391   object\n",
       "id_34            5           3   object\n",
       "id_35            3           3   object\n",
       "id_36            3           3   object\n",
       "id_37            3           3   object\n",
       "id_38            3           3   object"
      ]
     },
     "execution_count": 7,
     "metadata": {},
     "output_type": "execute_result"
    }
   ],
   "source": [
    "def count_identity_instances():\n",
    "    df = df_empty(['col', 'train_count', 'test_count', 'type'], dtypes=[str, np.float, np.float, str])\n",
    "    df['col'] = [\"id_\"+str(i).zfill(2) for i in range(1,39)]\n",
    "    df['train_count'] = df['col'].apply(lambda col: len(X[col].unique()))\n",
    "    df['test_count'] = df['col'].apply(lambda col: len(X_test[col].unique()))\n",
    "    df['type'] = df['col'].apply(lambda col: X[col].dtype)\n",
    "    df = df.set_index('col')\n",
    "    return df\n",
    "    \n",
    "count_identity_instances()"
   ]
  },
  {
   "cell_type": "markdown",
   "metadata": {},
   "source": [
    "#### id_01"
   ]
  },
  {
   "cell_type": "code",
   "execution_count": 69,
   "metadata": {},
   "outputs": [
    {
     "data": {
      "image/png": "[encoded data removed]",
      "text/plain": [
       "<Figure size 1080x288 with 2 Axes>"
      ]
     },
     "metadata": {},
     "output_type": "display_data"
    },
    {
     "data": {
      "image/png": "[encoded data removed]",
      "text/plain": [
       "<Figure size 1080x288 with 2 Axes>"
      ]
     },
     "metadata": {},
     "output_type": "display_data"
    }
   ],
   "source": [
    "compare_isfraud_hist(X, 'id_01', 80)\n",
    "compare_train_test_hist(X, X_test, 'id_01', 80)"
   ]
  },
  {
   "cell_type": "code",
   "execution_count": 79,
   "metadata": {},
   "outputs": [
    {
     "data": {
      "application/vnd.vegalite.v3+json": {
       "$schema": "https://vega.github.io/schema/vega-lite/v3.3.0.json",
       "config": {
        "mark": {
         "tooltip": null
        },
        "view": {
         "height": 300,
         "width": 400
        }
       },
       "data": {
        "name": "data-27eb54383813c0c6b2e49c4cd04a78b2"
       },
       "datasets": {
        "data-27eb54383813c0c6b2e49c4cd04a78b2": [
         {
          "count": 747,
          "index": "(-101.0, -96.792]",
          "label": 0
         },
         {
          "count": 267,
          "index": "(-101.0, -96.792]",
          "label": 1
         },
         {
          "count": 341,
          "index": "(-96.792, -92.583]",
          "label": 0
         },
         {
          "count": 92,
          "index": "(-96.792, -92.583]",
          "label": 1
         },
         {
          "count": 178,
          "index": "(-92.583, -88.375]",
          "label": 0
         },
         {
          "count": 38,
          "index": "(-92.583, -88.375]",
          "label": 1
         },
         {
          "count": 84,
          "index": "(-88.375, -84.167]",
          "label": 0
         },
         {
          "count": 11,
          "index": "(-88.375, -84.167]",
          "label": 1
         },
         {
          "count": 210,
          "index": "(-84.167, -79.958]",
          "label": 0
         },
         {
          "count": 11,
          "index": "(-84.167, -79.958]",
          "label": 1
         },
         {
          "count": 1,
          "index": "(-79.958, -75.75]",
          "label": 0
         },
         {
          "count": 75,
          "index": "(-75.75, -71.542]",
          "label": 0
         },
         {
          "count": 9,
          "index": "(-75.75, -71.542]",
          "label": 1
         },
         {
          "count": 80,
          "index": "(-71.542, -67.333]",
          "label": 0
         },
         {
          "count": 19,
          "index": "(-71.542, -67.333]",
          "label": 1
         },
         {
          "count": 82,
          "index": "(-67.333, -63.125]",
          "label": 0
         },
         {
          "count": 13,
          "index": "(-67.333, -63.125]",
          "label": 1
         },
         {
          "count": 361,
          "index": "(-63.125, -58.917]",
          "label": 0
         },
         {
          "count": 56,
          "index": "(-63.125, -58.917]",
          "label": 1
         },
         {
          "count": 276,
          "index": "(-58.917, -54.708]",
          "label": 0
         },
         {
          "count": 48,
          "index": "(-58.917, -54.708]",
          "label": 1
         },
         {
          "count": 5,
          "index": "(-54.708, -50.5]",
          "label": 0
         },
         {
          "count": 486,
          "index": "(-50.5, -46.292]",
          "label": 0
         },
         {
          "count": 225,
          "index": "(-50.5, -46.292]",
          "label": 1
         },
         {
          "count": 1907,
          "index": "(-46.292, -42.083]",
          "label": 0
         },
         {
          "count": 242,
          "index": "(-46.292, -42.083]",
          "label": 1
         },
         {
          "count": 1243,
          "index": "(-42.083, -37.875]",
          "label": 0
         },
         {
          "count": 146,
          "index": "(-42.083, -37.875]",
          "label": 1
         },
         {
          "count": 1258,
          "index": "(-37.875, -33.667]",
          "label": 0
         },
         {
          "count": 370,
          "index": "(-37.875, -33.667]",
          "label": 1
         },
         {
          "count": 538,
          "index": "(-33.667, -29.458]",
          "label": 0
         },
         {
          "count": 155,
          "index": "(-33.667, -29.458]",
          "label": 1
         },
         {
          "count": 17,
          "index": "(-29.458, -25.25]",
          "label": 0
         },
         {
          "count": 4187,
          "index": "(-25.25, -21.042]",
          "label": 0
         },
         {
          "count": 447,
          "index": "(-25.25, -21.042]",
          "label": 1
         },
         {
          "count": 9835,
          "index": "(-21.042, -16.833]",
          "label": 0
         },
         {
          "count": 1429,
          "index": "(-21.042, -16.833]",
          "label": 1
         },
         {
          "count": 5050,
          "index": "(-16.833, -12.625]",
          "label": 0
         },
         {
          "count": 651,
          "index": "(-16.833, -12.625]",
          "label": 1
         },
         {
          "count": 9939,
          "index": "(-12.625, -8.417]",
          "label": 0
         },
         {
          "count": 1352,
          "index": "(-12.625, -8.417]",
          "label": 1
         },
         {
          "count": 77433,
          "index": "(-8.417, -4.208]",
          "label": 0
         },
         {
          "count": 4764,
          "index": "(-8.417, -4.208]",
          "label": 1
         },
         {
          "count": 18582,
          "index": "(-4.208, 0.0]",
          "label": 0
         },
         {
          "count": 973,
          "index": "(-4.208, 0.0]",
          "label": 1
         }
        ]
       },
       "encoding": {
        "color": {
         "field": "label",
         "type": "nominal"
        },
        "tooltip": [
         {
          "field": "index",
          "type": "nominal"
         },
         {
          "field": "count",
          "type": "quantitative"
         },
         {
          "field": "label",
          "type": "quantitative"
         }
        ],
        "x": {
         "axis": {
          "title": "index"
         },
         "field": "index",
         "sort": null,
         "type": "nominal"
        },
        "y": {
         "axis": {
          "title": "Count"
         },
         "field": "count",
         "type": "quantitative"
        }
       },
       "mark": {
        "opacity": 0.7,
        "type": "bar"
       },
       "title": "Counts of id_01 by fraud",
       "width": 800
      },
      "image/png": "[encoded data removed]",
      "text/plain": [
       "<VegaLite 3 object>\n",
       "\n",
       "If you see this message, it means the renderer has not been properly enabled\n",
       "for the frontend that you are using. For more information, see\n",
       "https://altair-viz.github.io/user_guide/troubleshooting.html\n"
      ]
     },
     "execution_count": 79,
     "metadata": {},
     "output_type": "execute_result"
    }
   ],
   "source": [
    "auto_bin(X, 'id_01', 25)#.interactive()"
   ]
  },
  {
   "cell_type": "markdown",
   "metadata": {},
   "source": [
    "This looks like a `capture_day` variable. Heavily skewed towards -5 and peaks of multiple of 5, **we should be able to modulo 5 or bin this column**."
   ]
  },
  {
   "cell_type": "code",
   "execution_count": 53,
   "metadata": {},
   "outputs": [],
   "source": [
    "def bin_id_01(X):\n",
    "    # Fixed 5 length : 0 =< x < 5\n",
    "    return pd.cut(X['id_01'], np.arange(-100, 1, 5))\n",
    "\n",
    "X['id_01_bins']=bin_id_01(X)\n",
    "X_test['id_01_bins']=bin_id_01(X_test)"
   ]
  },
  {
   "cell_type": "code",
   "execution_count": 54,
   "metadata": {},
   "outputs": [
    {
     "data": {
      "application/vnd.vegalite.v3+json": {
       "$schema": "https://vega.github.io/schema/vega-lite/v3.3.0.json",
       "config": {
        "mark": {
         "tooltip": null
        },
        "view": {
         "height": 300,
         "width": 400
        }
       },
       "data": {
        "name": "data-7a85bb7d42fa0a0e63b5020ccf831fa9"
       },
       "datasets": {
        "data-7a85bb7d42fa0a0e63b5020ccf831fa9": [
         {
          "count": 433,
          "id_01_bins": "(-100.0, -95.0]"
         },
         {
          "count": 217,
          "id_01_bins": "(-95.0, -90.0]"
         },
         {
          "count": 96,
          "id_01_bins": "(-90.0, -85.0]"
         },
         {
          "count": 221,
          "id_01_bins": "(-85.0, -80.0]"
         },
         {
          "count": 84,
          "id_01_bins": "(-80.0, -75.0]"
         },
         {
          "count": 100,
          "id_01_bins": "(-75.0, -70.0]"
         },
         {
          "count": 93,
          "id_01_bins": "(-70.0, -65.0]"
         },
         {
          "count": 419,
          "id_01_bins": "(-65.0, -60.0]"
         },
         {
          "count": 324,
          "id_01_bins": "(-60.0, -55.0]"
         },
         {
          "count": 714,
          "id_01_bins": "(-55.0, -50.0]"
         },
         {
          "count": 2147,
          "id_01_bins": "(-50.0, -45.0]"
         },
         {
          "count": 1390,
          "id_01_bins": "(-45.0, -40.0]"
         },
         {
          "count": 1630,
          "id_01_bins": "(-40.0, -35.0]"
         },
         {
          "count": 694,
          "id_01_bins": "(-35.0, -30.0]"
         },
         {
          "count": 4640,
          "id_01_bins": "(-30.0, -25.0]"
         },
         {
          "count": 11234,
          "id_01_bins": "(-25.0, -20.0]"
         },
         {
          "count": 5728,
          "id_01_bins": "(-20.0, -15.0]"
         },
         {
          "count": 11301,
          "id_01_bins": "(-15.0, -10.0]"
         },
         {
          "count": 82201,
          "id_01_bins": "(-10.0, -5.0]"
         },
         {
          "count": 19555,
          "id_01_bins": "(-5.0, 0.0]"
         },
         {
          "count": 447319,
          "id_01_bins": "nan"
         }
        ]
       },
       "encoding": {
        "tooltip": [
         {
          "field": "id_01_bins",
          "type": "nominal"
         },
         {
          "field": "count",
          "type": "quantitative"
         }
        ],
        "x": {
         "axis": {
          "title": "id_01_bins"
         },
         "field": "id_01_bins",
         "sort": null,
         "type": "nominal"
        },
        "y": {
         "axis": {
          "title": "Count"
         },
         "field": "count",
         "type": "quantitative"
        }
       },
       "mark": "bar",
       "title": "Counts of id_01_bins",
       "width": 800
      },
      "image/png": "[encoded data removed]",
      "text/plain": [
       "<VegaLite 3 object>\n",
       "\n",
       "If you see this message, it means the renderer has not been properly enabled\n",
       "for the frontend that you are using. For more information, see\n",
       "https://altair-viz.github.io/user_guide/troubleshooting.html\n"
      ]
     },
     "execution_count": 54,
     "metadata": {},
     "output_type": "execute_result"
    }
   ],
   "source": [
    "bins_histogram(X, 'id_01_bins', width=800)#.interactive()"
   ]
  },
  {
   "cell_type": "code",
   "execution_count": 75,
   "metadata": {},
   "outputs": [
    {
     "data": {
      "application/vnd.vegalite.v3+json": {
       "$schema": "https://vega.github.io/schema/vega-lite/v3.3.0.json",
       "config": {
        "mark": {
         "tooltip": null
        },
        "view": {
         "height": 300,
         "width": 400
        }
       },
       "data": {
        "name": "data-6182c9ecdd4bc97dcd95fab24873c6cd"
       },
       "datasets": {
        "data-6182c9ecdd4bc97dcd95fab24873c6cd": [
         {
          "count": 341,
          "index": "(-100, -95]",
          "label": 0
         },
         {
          "count": 92,
          "index": "(-100, -95]",
          "label": 1
         },
         {
          "count": 179,
          "index": "(-95, -90]",
          "label": 0
         },
         {
          "count": 38,
          "index": "(-95, -90]",
          "label": 1
         },
         {
          "count": 85,
          "index": "(-90, -85]",
          "label": 0
         },
         {
          "count": 11,
          "index": "(-90, -85]",
          "label": 1
         },
         {
          "count": 210,
          "index": "(-85, -80]",
          "label": 0
         },
         {
          "count": 11,
          "index": "(-85, -80]",
          "label": 1
         },
         {
          "count": 76,
          "index": "(-80, -75]",
          "label": 0
         },
         {
          "count": 8,
          "index": "(-80, -75]",
          "label": 1
         },
         {
          "count": 80,
          "index": "(-75, -70]",
          "label": 0
         },
         {
          "count": 20,
          "index": "(-75, -70]",
          "label": 1
         },
         {
          "count": 80,
          "index": "(-70, -65]",
          "label": 0
         },
         {
          "count": 13,
          "index": "(-70, -65]",
          "label": 1
         },
         {
          "count": 363,
          "index": "(-65, -60]",
          "label": 0
         },
         {
          "count": 56,
          "index": "(-65, -60]",
          "label": 1
         },
         {
          "count": 276,
          "index": "(-60, -55]",
          "label": 0
         },
         {
          "count": 48,
          "index": "(-60, -55]",
          "label": 1
         },
         {
          "count": 489,
          "index": "(-55, -50]",
          "label": 0
         },
         {
          "count": 225,
          "index": "(-55, -50]",
          "label": 1
         },
         {
          "count": 1905,
          "index": "(-50, -45]",
          "label": 0
         },
         {
          "count": 242,
          "index": "(-50, -45]",
          "label": 1
         },
         {
          "count": 1244,
          "index": "(-45, -40]",
          "label": 0
         },
         {
          "count": 146,
          "index": "(-45, -40]",
          "label": 1
         },
         {
          "count": 1260,
          "index": "(-40, -35]",
          "label": 0
         },
         {
          "count": 370,
          "index": "(-40, -35]",
          "label": 1
         },
         {
          "count": 539,
          "index": "(-35, -30]",
          "label": 0
         },
         {
          "count": 155,
          "index": "(-35, -30]",
          "label": 1
         },
         {
          "count": 4194,
          "index": "(-30, -25]",
          "label": 0
         },
         {
          "count": 446,
          "index": "(-30, -25]",
          "label": 1
         },
         {
          "count": 9826,
          "index": "(-25, -20]",
          "label": 0
         },
         {
          "count": 1408,
          "index": "(-25, -20]",
          "label": 1
         },
         {
          "count": 5055,
          "index": "(-20, -15]",
          "label": 0
         },
         {
          "count": 673,
          "index": "(-20, -15]",
          "label": 1
         },
         {
          "count": 9950,
          "index": "(-15, -10]",
          "label": 0
         },
         {
          "count": 1351,
          "index": "(-15, -10]",
          "label": 1
         },
         {
          "count": 77436,
          "index": "(-10, -5]",
          "label": 0
         },
         {
          "count": 4765,
          "index": "(-10, -5]",
          "label": 1
         },
         {
          "count": 18582,
          "index": "(-5, 0]",
          "label": 0
         },
         {
          "count": 973,
          "index": "(-5, 0]",
          "label": 1
         }
        ]
       },
       "encoding": {
        "color": {
         "field": "label",
         "type": "nominal"
        },
        "tooltip": [
         {
          "field": "index",
          "type": "nominal"
         },
         {
          "field": "count",
          "type": "quantitative"
         },
         {
          "field": "label",
          "type": "quantitative"
         }
        ],
        "x": {
         "axis": {
          "title": "index"
         },
         "field": "index",
         "sort": null,
         "type": "nominal"
        },
        "y": {
         "axis": {
          "title": "Count"
         },
         "field": "count",
         "type": "quantitative"
        }
       },
       "mark": {
        "opacity": 0.7,
        "type": "bar"
       },
       "title": "Counts of id_01_bins by fraud",
       "width": 800
      },
      "image/png": "[encoded data removed]",
      "text/plain": [
       "<VegaLite 3 object>\n",
       "\n",
       "If you see this message, it means the renderer has not been properly enabled\n",
       "for the frontend that you are using. For more information, see\n",
       "https://altair-viz.github.io/user_guide/troubleshooting.html\n"
      ]
     },
     "execution_count": 75,
     "metadata": {},
     "output_type": "execute_result"
    }
   ],
   "source": [
    "compare_bins_isfraud_hist(X, 'id_01_bins', width=800)#.interactive()"
   ]
  },
  {
   "cell_type": "code",
   "execution_count": 46,
   "metadata": {},
   "outputs": [
    {
     "data": {
      "application/vnd.vegalite.v3+json": {
       "$schema": "https://vega.github.io/schema/vega-lite/v3.3.0.json",
       "config": {
        "mark": {
         "tooltip": null
        },
        "view": {
         "height": 300,
         "width": 400
        }
       },
       "datasets": {
        "data-7a85bb7d42fa0a0e63b5020ccf831fa9": [
         {
          "count": 433,
          "id_01_bins": "(-100.0, -95.0]"
         },
         {
          "count": 217,
          "id_01_bins": "(-95.0, -90.0]"
         },
         {
          "count": 96,
          "id_01_bins": "(-90.0, -85.0]"
         },
         {
          "count": 221,
          "id_01_bins": "(-85.0, -80.0]"
         },
         {
          "count": 84,
          "id_01_bins": "(-80.0, -75.0]"
         },
         {
          "count": 100,
          "id_01_bins": "(-75.0, -70.0]"
         },
         {
          "count": 93,
          "id_01_bins": "(-70.0, -65.0]"
         },
         {
          "count": 419,
          "id_01_bins": "(-65.0, -60.0]"
         },
         {
          "count": 324,
          "id_01_bins": "(-60.0, -55.0]"
         },
         {
          "count": 714,
          "id_01_bins": "(-55.0, -50.0]"
         },
         {
          "count": 2147,
          "id_01_bins": "(-50.0, -45.0]"
         },
         {
          "count": 1390,
          "id_01_bins": "(-45.0, -40.0]"
         },
         {
          "count": 1630,
          "id_01_bins": "(-40.0, -35.0]"
         },
         {
          "count": 694,
          "id_01_bins": "(-35.0, -30.0]"
         },
         {
          "count": 4640,
          "id_01_bins": "(-30.0, -25.0]"
         },
         {
          "count": 11234,
          "id_01_bins": "(-25.0, -20.0]"
         },
         {
          "count": 5728,
          "id_01_bins": "(-20.0, -15.0]"
         },
         {
          "count": 11301,
          "id_01_bins": "(-15.0, -10.0]"
         },
         {
          "count": 82201,
          "id_01_bins": "(-10.0, -5.0]"
         },
         {
          "count": 19555,
          "id_01_bins": "(-5.0, 0.0]"
         },
         {
          "count": 447319,
          "id_01_bins": "nan"
         }
        ],
        "data-ce8bc3ea0befa1f73042a34fd816a07f": [
         {
          "count": 271,
          "id_01_bins": "(-100.0, -95.0]"
         },
         {
          "count": 113,
          "id_01_bins": "(-95.0, -90.0]"
         },
         {
          "count": 164,
          "id_01_bins": "(-90.0, -85.0]"
         },
         {
          "count": 155,
          "id_01_bins": "(-85.0, -80.0]"
         },
         {
          "count": 117,
          "id_01_bins": "(-80.0, -75.0]"
         },
         {
          "count": 113,
          "id_01_bins": "(-75.0, -70.0]"
         },
         {
          "count": 272,
          "id_01_bins": "(-70.0, -65.0]"
         },
         {
          "count": 1208,
          "id_01_bins": "(-65.0, -60.0]"
         },
         {
          "count": 262,
          "id_01_bins": "(-60.0, -55.0]"
         },
         {
          "count": 895,
          "id_01_bins": "(-55.0, -50.0]"
         },
         {
          "count": 4565,
          "id_01_bins": "(-50.0, -45.0]"
         },
         {
          "count": 1030,
          "id_01_bins": "(-45.0, -40.0]"
         },
         {
          "count": 1193,
          "id_01_bins": "(-40.0, -35.0]"
         },
         {
          "count": 1112,
          "id_01_bins": "(-35.0, -30.0]"
         },
         {
          "count": 5057,
          "id_01_bins": "(-30.0, -25.0]"
         },
         {
          "count": 11146,
          "id_01_bins": "(-25.0, -20.0]"
         },
         {
          "count": 7096,
          "id_01_bins": "(-20.0, -15.0]"
         },
         {
          "count": 11840,
          "id_01_bins": "(-15.0, -10.0]"
         },
         {
          "count": 82604,
          "id_01_bins": "(-10.0, -5.0]"
         },
         {
          "count": 12000,
          "id_01_bins": "(-5.0, 0.0]"
         },
         {
          "count": 365478,
          "id_01_bins": "nan"
         }
        ]
       },
       "hconcat": [
        {
         "data": {
          "name": "data-7a85bb7d42fa0a0e63b5020ccf831fa9"
         },
         "encoding": {
          "tooltip": [
           {
            "field": "id_01_bins",
            "type": "nominal"
           },
           {
            "field": "count",
            "type": "quantitative"
           }
          ],
          "x": {
           "axis": {
            "title": "id_01_bins"
           },
           "field": "id_01_bins",
           "sort": null,
           "type": "nominal"
          },
          "y": {
           "axis": {
            "title": "Count"
           },
           "field": "count",
           "type": "quantitative"
          }
         },
         "mark": "bar",
         "title": "Counts of train id_01_bins",
         "width": 350
        },
        {
         "data": {
          "name": "data-ce8bc3ea0befa1f73042a34fd816a07f"
         },
         "encoding": {
          "tooltip": [
           {
            "field": "id_01_bins",
            "type": "nominal"
           },
           {
            "field": "count",
            "type": "quantitative"
           }
          ],
          "x": {
           "axis": {
            "title": "id_01_bins"
           },
           "field": "id_01_bins",
           "sort": null,
           "type": "nominal"
          },
          "y": {
           "axis": {
            "title": "Count"
           },
           "field": "count",
           "type": "quantitative"
          }
         },
         "mark": "bar",
         "title": "Counts of test id_01_bins",
         "width": 350
        }
       ]
      },
      "image/png": "[encoded data removed]",
      "text/plain": [
       "<VegaLite 3 object>\n",
       "\n",
       "If you see this message, it means the renderer has not been properly enabled\n",
       "for the frontend that you are using. For more information, see\n",
       "https://altair-viz.github.io/user_guide/troubleshooting.html\n"
      ]
     },
     "execution_count": 46,
     "metadata": {},
     "output_type": "execute_result"
    }
   ],
   "source": [
    "compare_bins_train_test_hist(X, X_test, 'id_01_bins', width=350)"
   ]
  },
  {
   "cell_type": "markdown",
   "metadata": {},
   "source": [
    "#### id_02"
   ]
  },
  {
   "cell_type": "code",
   "execution_count": 13,
   "metadata": {},
   "outputs": [
    {
     "data": {
      "image/png": "[encoded data removed]",
      "text/plain": [
       "<Figure size 1080x288 with 2 Axes>"
      ]
     },
     "metadata": {
      "needs_background": "light"
     },
     "output_type": "display_data"
    },
    {
     "data": {
      "image/png": "[encoded data removed]",
      "text/plain": [
       "<Figure size 1080x288 with 2 Axes>"
      ]
     },
     "metadata": {
      "needs_background": "light"
     },
     "output_type": "display_data"
    }
   ],
   "source": [
    "compare_isfraud_hist(X, 'id_02', 80)\n",
    "compare_train_test_hist(X, X_test, 'id_02', 80)"
   ]
  },
  {
   "cell_type": "code",
   "execution_count": 81,
   "metadata": {},
   "outputs": [
    {
     "data": {
      "application/vnd.vegalite.v3+json": {
       "$schema": "https://vega.github.io/schema/vega-lite/v3.3.0.json",
       "config": {
        "mark": {
         "tooltip": null
        },
        "view": {
         "height": 300,
         "width": 400
        }
       },
       "data": {
        "name": "data-8c3e475fae722abe788d6000dc9ae22c"
       },
       "datasets": {
        "data-8c3e475fae722abe788d6000dc9ae22c": [
         {
          "count": 9191,
          "index": "(0.0, 20399.898]",
          "label": 0
         },
         {
          "count": 527,
          "index": "(0.0, 20399.898]",
          "label": 1
         },
         {
          "count": 8829,
          "index": "(20399.898, 40799.796]",
          "label": 0
         },
         {
          "count": 520,
          "index": "(20399.898, 40799.796]",
          "label": 1
         },
         {
          "count": 10759,
          "index": "(40799.796, 61199.694]",
          "label": 0
         },
         {
          "count": 938,
          "index": "(40799.796, 61199.694]",
          "label": 1
         },
         {
          "count": 12271,
          "index": "(61199.694, 81599.592]",
          "label": 0
         },
         {
          "count": 932,
          "index": "(61199.694, 81599.592]",
          "label": 1
         },
         {
          "count": 11937,
          "index": "(81599.592, 101999.49]",
          "label": 0
         },
         {
          "count": 868,
          "index": "(81599.592, 101999.49]",
          "label": 1
         },
         {
          "count": 11033,
          "index": "(101999.49, 122399.388]",
          "label": 0
         },
         {
          "count": 879,
          "index": "(101999.49, 122399.388]",
          "label": 1
         },
         {
          "count": 9046,
          "index": "(122399.388, 142799.286]",
          "label": 0
         },
         {
          "count": 720,
          "index": "(122399.388, 142799.286]",
          "label": 1
         },
         {
          "count": 7635,
          "index": "(142799.286, 163199.184]",
          "label": 0
         },
         {
          "count": 663,
          "index": "(142799.286, 163199.184]",
          "label": 1
         },
         {
          "count": 6320,
          "index": "(163199.184, 183599.082]",
          "label": 0
         },
         {
          "count": 613,
          "index": "(163199.184, 183599.082]",
          "label": 1
         },
         {
          "count": 5302,
          "index": "(183599.082, 203998.98]",
          "label": 0
         },
         {
          "count": 505,
          "index": "(183599.082, 203998.98]",
          "label": 1
         },
         {
          "count": 4686,
          "index": "(203998.98, 224398.878]",
          "label": 0
         },
         {
          "count": 469,
          "index": "(203998.98, 224398.878]",
          "label": 1
         },
         {
          "count": 3980,
          "index": "(224398.878, 244798.776]",
          "label": 0
         },
         {
          "count": 391,
          "index": "(224398.878, 244798.776]",
          "label": 1
         },
         {
          "count": 3343,
          "index": "(244798.776, 265198.673]",
          "label": 0
         },
         {
          "count": 333,
          "index": "(244798.776, 265198.673]",
          "label": 1
         },
         {
          "count": 2925,
          "index": "(265198.673, 285598.571]",
          "label": 0
         },
         {
          "count": 297,
          "index": "(265198.673, 285598.571]",
          "label": 1
         },
         {
          "count": 2449,
          "index": "(285598.571, 305998.469]",
          "label": 0
         },
         {
          "count": 268,
          "index": "(285598.571, 305998.469]",
          "label": 1
         },
         {
          "count": 2228,
          "index": "(305998.469, 326398.367]",
          "label": 0
         },
         {
          "count": 221,
          "index": "(305998.469, 326398.367]",
          "label": 1
         },
         {
          "count": 1934,
          "index": "(326398.367, 346798.265]",
          "label": 0
         },
         {
          "count": 207,
          "index": "(326398.367, 346798.265]",
          "label": 1
         },
         {
          "count": 1689,
          "index": "(346798.265, 367198.163]",
          "label": 0
         },
         {
          "count": 182,
          "index": "(346798.265, 367198.163]",
          "label": 1
         },
         {
          "count": 1653,
          "index": "(367198.163, 387598.061]",
          "label": 0
         },
         {
          "count": 162,
          "index": "(367198.163, 387598.061]",
          "label": 1
         },
         {
          "count": 1333,
          "index": "(387598.061, 407997.959]",
          "label": 0
         },
         {
          "count": 148,
          "index": "(387598.061, 407997.959]",
          "label": 1
         },
         {
          "count": 1226,
          "index": "(407997.959, 428397.857]",
          "label": 0
         },
         {
          "count": 166,
          "index": "(407997.959, 428397.857]",
          "label": 1
         },
         {
          "count": 1098,
          "index": "(428397.857, 448797.755]",
          "label": 0
         },
         {
          "count": 114,
          "index": "(428397.857, 448797.755]",
          "label": 1
         },
         {
          "count": 946,
          "index": "(448797.755, 469197.653]",
          "label": 0
         },
         {
          "count": 122,
          "index": "(448797.755, 469197.653]",
          "label": 1
         },
         {
          "count": 814,
          "index": "(469197.653, 489597.551]",
          "label": 0
         },
         {
          "count": 111,
          "index": "(469197.653, 489597.551]",
          "label": 1
         },
         {
          "count": 698,
          "index": "(489597.551, 509997.449]",
          "label": 0
         },
         {
          "count": 91,
          "index": "(489597.551, 509997.449]",
          "label": 1
         },
         {
          "count": 698,
          "index": "(509997.449, 530397.347]",
          "label": 0
         },
         {
          "count": 88,
          "index": "(509997.449, 530397.347]",
          "label": 1
         },
         {
          "count": 590,
          "index": "(530397.347, 550797.245]",
          "label": 0
         },
         {
          "count": 77,
          "index": "(530397.347, 550797.245]",
          "label": 1
         },
         {
          "count": 562,
          "index": "(550797.245, 571197.143]",
          "label": 0
         },
         {
          "count": 87,
          "index": "(550797.245, 571197.143]",
          "label": 1
         },
         {
          "count": 566,
          "index": "(571197.143, 591597.041]",
          "label": 0
         },
         {
          "count": 65,
          "index": "(571197.143, 591597.041]",
          "label": 1
         },
         {
          "count": 475,
          "index": "(591597.041, 611996.939]",
          "label": 0
         },
         {
          "count": 62,
          "index": "(591597.041, 611996.939]",
          "label": 1
         },
         {
          "count": 420,
          "index": "(611996.939, 632396.837]",
          "label": 0
         },
         {
          "count": 39,
          "index": "(611996.939, 632396.837]",
          "label": 1
         },
         {
          "count": 342,
          "index": "(632396.837, 652796.735]",
          "label": 0
         },
         {
          "count": 39,
          "index": "(632396.837, 652796.735]",
          "label": 1
         },
         {
          "count": 302,
          "index": "(652796.735, 673196.633]",
          "label": 0
         },
         {
          "count": 39,
          "index": "(652796.735, 673196.633]",
          "label": 1
         },
         {
          "count": 256,
          "index": "(673196.633, 693596.531]",
          "label": 0
         },
         {
          "count": 26,
          "index": "(673196.633, 693596.531]",
          "label": 1
         },
         {
          "count": 253,
          "index": "(693596.531, 713996.429]",
          "label": 0
         },
         {
          "count": 30,
          "index": "(693596.531, 713996.429]",
          "label": 1
         },
         {
          "count": 236,
          "index": "(713996.429, 734396.327]",
          "label": 0
         },
         {
          "count": 25,
          "index": "(713996.429, 734396.327]",
          "label": 1
         },
         {
          "count": 209,
          "index": "(734396.327, 754796.224]",
          "label": 0
         },
         {
          "count": 28,
          "index": "(734396.327, 754796.224]",
          "label": 1
         },
         {
          "count": 204,
          "index": "(754796.224, 775196.122]",
          "label": 0
         },
         {
          "count": 17,
          "index": "(754796.224, 775196.122]",
          "label": 1
         },
         {
          "count": 185,
          "index": "(775196.122, 795596.02]",
          "label": 0
         },
         {
          "count": 19,
          "index": "(775196.122, 795596.02]",
          "label": 1
         },
         {
          "count": 141,
          "index": "(795596.02, 815995.918]",
          "label": 0
         },
         {
          "count": 20,
          "index": "(795596.02, 815995.918]",
          "label": 1
         },
         {
          "count": 138,
          "index": "(815995.918, 836395.816]",
          "label": 0
         },
         {
          "count": 6,
          "index": "(815995.918, 836395.816]",
          "label": 1
         },
         {
          "count": 123,
          "index": "(836395.816, 856795.714]",
          "label": 0
         },
         {
          "count": 19,
          "index": "(836395.816, 856795.714]",
          "label": 1
         },
         {
          "count": 123,
          "index": "(856795.714, 877195.612]",
          "label": 0
         },
         {
          "count": 10,
          "index": "(856795.714, 877195.612]",
          "label": 1
         },
         {
          "count": 114,
          "index": "(877195.612, 897595.51]",
          "label": 0
         },
         {
          "count": 12,
          "index": "(877195.612, 897595.51]",
          "label": 1
         },
         {
          "count": 97,
          "index": "(897595.51, 917995.408]",
          "label": 0
         },
         {
          "count": 16,
          "index": "(897595.51, 917995.408]",
          "label": 1
         },
         {
          "count": 82,
          "index": "(917995.408, 938395.306]",
          "label": 0
         },
         {
          "count": 13,
          "index": "(917995.408, 938395.306]",
          "label": 1
         },
         {
          "count": 80,
          "index": "(938395.306, 958795.204]",
          "label": 0
         },
         {
          "count": 12,
          "index": "(938395.306, 958795.204]",
          "label": 1
         },
         {
          "count": 64,
          "index": "(958795.204, 979195.102]",
          "label": 0
         },
         {
          "count": 17,
          "index": "(958795.204, 979195.102]",
          "label": 1
         },
         {
          "count": 65,
          "index": "(979195.102, 999595.0]",
          "label": 0
         },
         {
          "count": 9,
          "index": "(979195.102, 999595.0]",
          "label": 1
         }
        ]
       },
       "encoding": {
        "color": {
         "field": "label",
         "type": "nominal"
        },
        "tooltip": [
         {
          "field": "index",
          "type": "nominal"
         },
         {
          "field": "count",
          "type": "quantitative"
         },
         {
          "field": "label",
          "type": "quantitative"
         }
        ],
        "x": {
         "axis": {
          "title": "index"
         },
         "field": "index",
         "sort": null,
         "type": "nominal"
        },
        "y": {
         "axis": {
          "title": "Count"
         },
         "field": "count",
         "type": "quantitative"
        }
       },
       "mark": {
        "opacity": 0.7,
        "type": "bar"
       },
       "title": "Counts of id_02 by fraud",
       "width": 800
      },
      "image/png": "[encoded data removed]",
      "text/plain": [
       "<VegaLite 3 object>\n",
       "\n",
       "If you see this message, it means the renderer has not been properly enabled\n",
       "for the frontend that you are using. For more information, see\n",
       "https://altair-viz.github.io/user_guide/troubleshooting.html\n"
      ]
     },
     "execution_count": 81,
     "metadata": {},
     "output_type": "execute_result"
    }
   ],
   "source": [
    "auto_bin(X, 'id_02', 50)#.interactive()"
   ]
  },
  {
   "cell_type": "markdown",
   "metadata": {},
   "source": [
    "**There's a skew, let's log this thing :)**"
   ]
  },
  {
   "cell_type": "code",
   "execution_count": 84,
   "metadata": {},
   "outputs": [],
   "source": [
    "X['id_02_log']=np.log(X['id_02'])\n",
    "X_test['id_02_log']=np.log(X_test['id_02'])"
   ]
  },
  {
   "cell_type": "code",
   "execution_count": 15,
   "metadata": {},
   "outputs": [
    {
     "data": {
      "image/png": "[encoded data removed]",
      "text/plain": [
       "<Figure size 1080x288 with 2 Axes>"
      ]
     },
     "metadata": {
      "needs_background": "light"
     },
     "output_type": "display_data"
    }
   ],
   "source": [
    "compare_isfraud_hist(X, 'id_02_log', 80)"
   ]
  },
  {
   "cell_type": "code",
   "execution_count": 16,
   "metadata": {},
   "outputs": [
    {
     "data": {
      "image/png": "[encoded data removed]",
      "text/plain": [
       "<Figure size 1080x288 with 2 Axes>"
      ]
     },
     "metadata": {
      "needs_background": "light"
     },
     "output_type": "display_data"
    }
   ],
   "source": [
    "compare_train_test_hist(X, X_test, 'id_02_log', 80)"
   ]
  },
  {
   "cell_type": "markdown",
   "metadata": {},
   "source": [
    "#### id_03"
   ]
  },
  {
   "cell_type": "code",
   "execution_count": 17,
   "metadata": {},
   "outputs": [
    {
     "data": {
      "image/png": "[encoded data removed]",
      "text/plain": [
       "<Figure size 1080x288 with 2 Axes>"
      ]
     },
     "metadata": {
      "needs_background": "light"
     },
     "output_type": "display_data"
    },
    {
     "data": {
      "image/png": "[encoded data removed]",
      "text/plain": [
       "<Figure size 1080x288 with 2 Axes>"
      ]
     },
     "metadata": {
      "needs_background": "light"
     },
     "output_type": "display_data"
    }
   ],
   "source": [
    "compare_isfraud_hist(X, 'id_03', 30)\n",
    "compare_train_test_hist(X, X_test, 'id_03', 30)"
   ]
  },
  {
   "cell_type": "code",
   "execution_count": null,
   "metadata": {},
   "outputs": [],
   "source": []
  },
  {
   "cell_type": "markdown",
   "metadata": {},
   "source": [
    "#### id_04"
   ]
  },
  {
   "cell_type": "code",
   "execution_count": 74,
   "metadata": {},
   "outputs": [
    {
     "data": {
      "image/png": "[encoded data removed]",
      "text/plain": [
       "<Figure size 1080x288 with 2 Axes>"
      ]
     },
     "metadata": {},
     "output_type": "display_data"
    },
    {
     "data": {
      "image/png": "[encoded data removed]",
      "text/plain": [
       "<Figure size 1080x288 with 2 Axes>"
      ]
     },
     "metadata": {},
     "output_type": "display_data"
    }
   ],
   "source": [
    "compare_isfraud_hist(X, 'id_04', 30)\n",
    "compare_train_test_hist(X, X_test, 'id_04', 30)"
   ]
  },
  {
   "cell_type": "markdown",
   "metadata": {},
   "source": [
    "#### id_05"
   ]
  },
  {
   "cell_type": "code",
   "execution_count": 73,
   "metadata": {},
   "outputs": [
    {
     "data": {
      "image/png": "[encoded data removed]",
      "text/plain": [
       "<Figure size 1080x288 with 2 Axes>"
      ]
     },
     "metadata": {},
     "output_type": "display_data"
    },
    {
     "data": {
      "image/png": "[encoded data removed]",
      "text/plain": [
       "<Figure size 1080x288 with 2 Axes>"
      ]
     },
     "metadata": {},
     "output_type": "display_data"
    }
   ],
   "source": [
    "compare_isfraud_hist(X, 'id_05', 30)\n",
    "compare_train_test_hist(X, X_test, 'id_05', 30)"
   ]
  },
  {
   "cell_type": "code",
   "execution_count": null,
   "metadata": {},
   "outputs": [],
   "source": []
  },
  {
   "cell_type": "code",
   "execution_count": null,
   "metadata": {},
   "outputs": [],
   "source": []
  },
  {
   "cell_type": "code",
   "execution_count": null,
   "metadata": {},
   "outputs": [],
   "source": []
  },
  {
   "cell_type": "code",
   "execution_count": null,
   "metadata": {},
   "outputs": [],
   "source": []
  },
  {
   "cell_type": "code",
   "execution_count": null,
   "metadata": {},
   "outputs": [],
   "source": []
  },
  {
   "cell_type": "code",
   "execution_count": 19,
   "metadata": {},
   "outputs": [
    {
     "data": {
      "image/png": "[encoded data removed]",
      "text/plain": [
       "<Figure size 432x288 with 1 Axes>"
      ]
     },
     "metadata": {
      "needs_background": "light"
     },
     "output_type": "display_data"
    }
   ],
   "source": [
    "plt.hist(ds.X_train['id_07']);\n",
    "plt.title('Distribution of id_07 variable');"
   ]
  },
  {
   "cell_type": "markdown",
   "metadata": {},
   "source": [
    "#### id_12 --> id_38 : all categorical"
   ]
  },
  {
   "cell_type": "code",
   "execution_count": 20,
   "metadata": {},
   "outputs": [
    {
     "data": {
      "application/vnd.vegalite.v3+json": {
       "$schema": "https://vega.github.io/schema/vega-lite/v3.3.0.json",
       "config": {
        "mark": {
         "tooltip": null
        },
        "view": {
         "height": 300,
         "width": 400
        }
       },
       "datasets": {
        "data-04a7a5d5228fc3ccfb23d3011f71d088": [
         {
          "count": 512735,
          "id_34": null
         },
         {
          "count": 60011,
          "id_34": "match_status:2"
         },
         {
          "count": 17376,
          "id_34": "match_status:1"
         },
         {
          "count": 415,
          "id_34": "match_status:0"
         },
         {
          "count": 3,
          "id_34": "match_status:-1"
         }
        ],
        "data-1928256bb7c7c8a890103251bfa3b597": [
         {
          "count": 512954,
          "id_32": null
         },
         {
          "count": 53071,
          "id_32": 24
         },
         {
          "count": 24428,
          "id_32": 32
         },
         {
          "count": 81,
          "id_32": 16
         },
         {
          "count": 6,
          "id_32": 0
         }
        ],
        "data-592d65dd0791ccf1da921bb081b4e957": [
         {
          "count": 449555,
          "id_38": null
         },
         {
          "count": 73922,
          "id_38": "F"
         },
         {
          "count": 67063,
          "id_38": "T"
         }
        ],
        "data-6ae9fd04d0b20a4b1150d885c7e614d7": [
         {
          "count": 449555,
          "id_15": null
         },
         {
          "count": 67728,
          "id_15": "Found"
         },
         {
          "count": 61612,
          "id_15": "New"
         },
         {
          "count": 11645,
          "id_15": "Unknown"
         }
        ],
        "data-7b2cf6d13b1ff29ce592a50c8574ee9a": [
         {
          "count": 446307,
          "id_12": null
         },
         {
          "count": 123025,
          "id_12": "NotFound"
         },
         {
          "count": 21208,
          "id_12": "Found"
         }
        ],
        "data-8466aabebaf5926f1257fbdc5eb6b692": [
         {
          "count": 449562,
          "id_28": null
         },
         {
          "count": 76232,
          "id_28": "Found"
         },
         {
          "count": 64746,
          "id_28": "New"
         }
        ],
        "data-bc7a2a20128627a4dfa261cdc35f00fc": [
         {
          "count": 449555,
          "id_37": null
         },
         {
          "count": 110452,
          "id_37": "T"
         },
         {
          "count": 30533,
          "id_37": "F"
         }
        ],
        "data-d65b4492b47a36ae0190aaffa7c4e7e4": [
         {
          "count": 449555,
          "id_36": null
         },
         {
          "count": 134066,
          "id_36": "F"
         },
         {
          "count": 6919,
          "id_36": "T"
         }
        ],
        "data-d8753e5d54942ca3b9397fa20755fac2": [
         {
          "count": 461200,
          "id_16": null
         },
         {
          "count": 66324,
          "id_16": "Found"
         },
         {
          "count": 63016,
          "id_16": "NotFound"
         }
        ],
        "data-e28b0236e60583faa58de4d2d012c51c": [
         {
          "count": 449555,
          "id_35": null
         },
         {
          "count": 77814,
          "id_35": "T"
         },
         {
          "count": 63171,
          "id_35": "F"
         }
        ],
        "data-e35001e9332e8a2b33201c6e7a117ec4": [
         {
          "count": 449562,
          "id_29": null
         },
         {
          "count": 74926,
          "id_29": "Found"
         },
         {
          "count": 66052,
          "id_29": "NotFound"
         }
        ]
       },
       "vconcat": [
        {
         "hconcat": [
          {
           "data": {
            "name": "data-7b2cf6d13b1ff29ce592a50c8574ee9a"
           },
           "encoding": {
            "tooltip": [
             {
              "field": "id_12",
              "type": "nominal"
             },
             {
              "field": "count",
              "type": "quantitative"
             }
            ],
            "x": {
             "axis": {
              "title": "Count"
             },
             "field": "count",
             "type": "quantitative"
            },
            "y": {
             "axis": {
              "title": "id_12"
             },
             "field": "id_12",
             "type": "nominal"
            }
           },
           "mark": "bar",
           "title": "Counts of id_12",
           "width": 400
          },
          {
           "data": {
            "name": "data-6ae9fd04d0b20a4b1150d885c7e614d7"
           },
           "encoding": {
            "tooltip": [
             {
              "field": "id_15",
              "type": "nominal"
             },
             {
              "field": "count",
              "type": "quantitative"
             }
            ],
            "x": {
             "axis": {
              "title": "Count"
             },
             "field": "count",
             "type": "quantitative"
            },
            "y": {
             "axis": {
              "title": "id_15"
             },
             "field": "id_15",
             "type": "nominal"
            }
           },
           "mark": "bar",
           "title": "Counts of id_15",
           "width": 400
          },
          {
           "data": {
            "name": "data-d8753e5d54942ca3b9397fa20755fac2"
           },
           "encoding": {
            "tooltip": [
             {
              "field": "id_16",
              "type": "nominal"
             },
             {
              "field": "count",
              "type": "quantitative"
             }
            ],
            "x": {
             "axis": {
              "title": "Count"
             },
             "field": "count",
             "type": "quantitative"
            },
            "y": {
             "axis": {
              "title": "id_16"
             },
             "field": "id_16",
             "type": "nominal"
            }
           },
           "mark": "bar",
           "title": "Counts of id_16",
           "width": 400
          }
         ]
        },
        {
         "hconcat": [
          {
           "data": {
            "name": "data-8466aabebaf5926f1257fbdc5eb6b692"
           },
           "encoding": {
            "tooltip": [
             {
              "field": "id_28",
              "type": "nominal"
             },
             {
              "field": "count",
              "type": "quantitative"
             }
            ],
            "x": {
             "axis": {
              "title": "Count"
             },
             "field": "count",
             "type": "quantitative"
            },
            "y": {
             "axis": {
              "title": "id_28"
             },
             "field": "id_28",
             "type": "nominal"
            }
           },
           "mark": "bar",
           "title": "Counts of id_28",
           "width": 400
          },
          {
           "data": {
            "name": "data-e35001e9332e8a2b33201c6e7a117ec4"
           },
           "encoding": {
            "tooltip": [
             {
              "field": "id_29",
              "type": "nominal"
             },
             {
              "field": "count",
              "type": "quantitative"
             }
            ],
            "x": {
             "axis": {
              "title": "Count"
             },
             "field": "count",
             "type": "quantitative"
            },
            "y": {
             "axis": {
              "title": "id_29"
             },
             "field": "id_29",
             "type": "nominal"
            }
           },
           "mark": "bar",
           "title": "Counts of id_29",
           "width": 400
          },
          {
           "data": {
            "name": "data-1928256bb7c7c8a890103251bfa3b597"
           },
           "encoding": {
            "tooltip": [
             {
              "field": "id_32",
              "type": "quantitative"
             },
             {
              "field": "count",
              "type": "quantitative"
             }
            ],
            "x": {
             "axis": {
              "title": "Count"
             },
             "field": "count",
             "type": "quantitative"
            },
            "y": {
             "axis": {
              "title": "id_32"
             },
             "field": "id_32",
             "type": "nominal"
            }
           },
           "mark": "bar",
           "title": "Counts of id_32",
           "width": 400
          }
         ]
        },
        {
         "hconcat": [
          {
           "data": {
            "name": "data-04a7a5d5228fc3ccfb23d3011f71d088"
           },
           "encoding": {
            "tooltip": [
             {
              "field": "id_34",
              "type": "nominal"
             },
             {
              "field": "count",
              "type": "quantitative"
             }
            ],
            "x": {
             "axis": {
              "title": "Count"
             },
             "field": "count",
             "type": "quantitative"
            },
            "y": {
             "axis": {
              "title": "id_34"
             },
             "field": "id_34",
             "type": "nominal"
            }
           },
           "mark": "bar",
           "title": "Counts of id_34",
           "width": 400
          },
          {
           "data": {
            "name": "data-e28b0236e60583faa58de4d2d012c51c"
           },
           "encoding": {
            "tooltip": [
             {
              "field": "id_35",
              "type": "nominal"
             },
             {
              "field": "count",
              "type": "quantitative"
             }
            ],
            "x": {
             "axis": {
              "title": "Count"
             },
             "field": "count",
             "type": "quantitative"
            },
            "y": {
             "axis": {
              "title": "id_35"
             },
             "field": "id_35",
             "type": "nominal"
            }
           },
           "mark": "bar",
           "title": "Counts of id_35",
           "width": 400
          },
          {
           "data": {
            "name": "data-d65b4492b47a36ae0190aaffa7c4e7e4"
           },
           "encoding": {
            "tooltip": [
             {
              "field": "id_36",
              "type": "nominal"
             },
             {
              "field": "count",
              "type": "quantitative"
             }
            ],
            "x": {
             "axis": {
              "title": "Count"
             },
             "field": "count",
             "type": "quantitative"
            },
            "y": {
             "axis": {
              "title": "id_36"
             },
             "field": "id_36",
             "type": "nominal"
            }
           },
           "mark": "bar",
           "title": "Counts of id_36",
           "width": 400
          }
         ]
        },
        {
         "hconcat": [
          {
           "data": {
            "name": "data-bc7a2a20128627a4dfa261cdc35f00fc"
           },
           "encoding": {
            "tooltip": [
             {
              "field": "id_37",
              "type": "nominal"
             },
             {
              "field": "count",
              "type": "quantitative"
             }
            ],
            "x": {
             "axis": {
              "title": "Count"
             },
             "field": "count",
             "type": "quantitative"
            },
            "y": {
             "axis": {
              "title": "id_37"
             },
             "field": "id_37",
             "type": "nominal"
            }
           },
           "mark": "bar",
           "title": "Counts of id_37",
           "width": 400
          },
          {
           "data": {
            "name": "data-592d65dd0791ccf1da921bb081b4e957"
           },
           "encoding": {
            "tooltip": [
             {
              "field": "id_38",
              "type": "nominal"
             },
             {
              "field": "count",
              "type": "quantitative"
             }
            ],
            "x": {
             "axis": {
              "title": "Count"
             },
             "field": "count",
             "type": "quantitative"
            },
            "y": {
             "axis": {
              "title": "id_38"
             },
             "field": "id_38",
             "type": "nominal"
            }
           },
           "mark": "bar",
           "title": "Counts of id_38",
           "width": 400
          }
         ]
        }
       ]
      },
      "image/png": "[encoded data removed]",
      "text/plain": [
       "<VegaLite 3 object>\n",
       "\n",
       "If you see this message, it means the renderer has not been properly enabled\n",
       "for the frontend that you are using. For more information, see\n",
       "https://altair-viz.github.io/user_guide/troubleshooting.html\n"
      ]
     },
     "execution_count": 20,
     "metadata": {},
     "output_type": "execute_result"
    }
   ],
   "source": [
    "charts = {}\n",
    "\n",
    "for i in ['id_12', 'id_15', 'id_16', 'id_28', 'id_29', 'id_30', 'id_31', 'id_32', 'id_33', 'id_34', 'id_35', 'id_36', 'id_37', 'id_38']:\n",
    "    chart = categorical_horizontal_histogram(X, i)\n",
    "    charts[i] = chart   \n",
    "\n",
    "(charts['id_12'] | charts['id_15'] | charts['id_16']) & (charts['id_28'] | charts['id_29'] | charts['id_32']) & (charts['id_34'] | charts['id_35'] | charts['id_36']) & (charts['id_37'] | charts['id_38'])"
   ]
  },
  {
   "cell_type": "code",
   "execution_count": 21,
   "metadata": {},
   "outputs": [
    {
     "data": {
      "application/vnd.vegalite.v3+json": {
       "$schema": "https://vega.github.io/schema/vega-lite/v3.3.0.json",
       "config": {
        "mark": {
         "tooltip": null
        },
        "view": {
         "height": 300,
         "width": 400
        }
       },
       "datasets": {
        "data-05c6f1c47a207e3817ecb1324aeffd29": [
         {
          "count": 450258,
          "id_31": null
         },
         {
          "count": 22000,
          "id_31": "chrome 63.0"
         },
         {
          "count": 13423,
          "id_31": "mobile safari 11.0"
         },
         {
          "count": 11474,
          "id_31": "mobile safari generic"
         },
         {
          "count": 9030,
          "id_31": "ie 11.0 for desktop"
         },
         {
          "count": 8195,
          "id_31": "safari generic"
         },
         {
          "count": 7182,
          "id_31": "chrome 62.0"
         },
         {
          "count": 6871,
          "id_31": "chrome 65.0"
         },
         {
          "count": 6711,
          "id_31": "chrome 64.0"
         },
         {
          "count": 5806,
          "id_31": "chrome 63.0 for android"
         },
         {
          "count": 4778,
          "id_31": "chrome generic"
         },
         {
          "count": 4264,
          "id_31": "chrome 66.0"
         },
         {
          "count": 4188,
          "id_31": "edge 16.0"
         },
         {
          "count": 3473,
          "id_31": "chrome 64.0 for android"
         },
         {
          "count": 3336,
          "id_31": "chrome 65.0 for android"
         },
         {
          "count": 3315,
          "id_31": "firefox 57.0"
         },
         {
          "count": 2779,
          "id_31": "mobile safari 10.0"
         },
         {
          "count": 2349,
          "id_31": "chrome 66.0 for android"
         },
         {
          "count": 2097,
          "id_31": "chrome 62.0 for android"
         },
         {
          "count": 1600,
          "id_31": "edge 15.0"
         },
         {
          "count": 1158,
          "id_31": "chrome generic for android"
         },
         {
          "count": 1099,
          "id_31": "firefox 59.0"
         },
         {
          "count": 1061,
          "id_31": "samsung browser 6.2"
         },
         {
          "count": 833,
          "id_31": "firefox 58.0"
         },
         {
          "count": 719,
          "id_31": "chrome 49.0"
         },
         {
          "count": 673,
          "id_31": "firefox"
         },
         {
          "count": 647,
          "id_31": "ie 11.0 for tablet"
         },
         {
          "count": 642,
          "id_31": "chrome 61.0"
         },
         {
          "count": 550,
          "id_31": "safari 11.0"
         },
         {
          "count": 541,
          "id_31": "mobile safari 9.0"
         },
         {
          "count": 538,
          "id_31": "chrome 61.0 for android"
         },
         {
          "count": 509,
          "id_31": "samsung browser 6.4"
         },
         {
          "count": 428,
          "id_31": "chrome"
         },
         {
          "count": 419,
          "id_31": "edge 14.0"
         },
         {
          "count": 394,
          "id_31": "firefox 52.0"
         },
         {
          "count": 371,
          "id_31": "chrome 60.0"
         },
         {
          "count": 325,
          "id_31": "chrome 60.0 for android"
         },
         {
          "count": 312,
          "id_31": "other"
         },
         {
          "count": 302,
          "id_31": "chrome 55.0 for android"
         },
         {
          "count": 285,
          "id_31": "android webview 4.0"
         }
        ],
        "data-7c6a9bf5c2e659d1d7454a11ece93f45": [
         {
          "count": 517251,
          "id_33": null
         },
         {
          "count": 16874,
          "id_33": "1920x1080"
         },
         {
          "count": 8605,
          "id_33": "1366x768"
         },
         {
          "count": 6447,
          "id_33": "1334x750"
         },
         {
          "count": 4900,
          "id_33": "2208x1242"
         },
         {
          "count": 4384,
          "id_33": "1440x900"
         },
         {
          "count": 3510,
          "id_33": "1600x900"
         },
         {
          "count": 3482,
          "id_33": "2048x1536"
         },
         {
          "count": 2149,
          "id_33": "1280x800"
         },
         {
          "count": 2093,
          "id_33": "2560x1600"
         },
         {
          "count": 1865,
          "id_33": "2560x1440"
         },
         {
          "count": 1756,
          "id_33": "2880x1800"
         },
         {
          "count": 1743,
          "id_33": "1280x1024"
         },
         {
          "count": 1727,
          "id_33": "1680x1050"
         },
         {
          "count": 1712,
          "id_33": "1136x640"
         },
         {
          "count": 1484,
          "id_33": "2436x1125"
         },
         {
          "count": 1318,
          "id_33": "1280x720"
         },
         {
          "count": 1056,
          "id_33": "1920x1200"
         },
         {
          "count": 1020,
          "id_33": "2001x1125"
         },
         {
          "count": 824,
          "id_33": "1024x768"
         },
         {
          "count": 544,
          "id_33": "2220x1080"
         },
         {
          "count": 397,
          "id_33": "5120x2880"
         },
         {
          "count": 380,
          "id_33": "3360x2100"
         },
         {
          "count": 354,
          "id_33": "2732x2048"
         },
         {
          "count": 335,
          "id_33": "1366x767"
         },
         {
          "count": 263,
          "id_33": "3840x2160"
         },
         {
          "count": 250,
          "id_33": "855x480"
         },
         {
          "count": 241,
          "id_33": "2736x1824"
         },
         {
          "count": 224,
          "id_33": "1360x768"
         },
         {
          "count": 208,
          "id_33": "4096x2304"
         },
         {
          "count": 194,
          "id_33": "2224x1668"
         },
         {
          "count": 176,
          "id_33": "2220x1081"
         },
         {
          "count": 168,
          "id_33": "2160x1440"
         },
         {
          "count": 157,
          "id_33": "2961x1442"
         },
         {
          "count": 124,
          "id_33": "3200x1800"
         },
         {
          "count": 103,
          "id_33": "2560x1080"
         },
         {
          "count": 99,
          "id_33": "2562x1442"
         },
         {
          "count": 97,
          "id_33": "1600x1200"
         },
         {
          "count": 90,
          "id_33": "1280x768"
         },
         {
          "count": 88,
          "id_33": "1024x600"
         }
        ],
        "data-7e51b6874dd5ea9046a09b7e51a17ef8": [
         {
          "count": 512975,
          "id_30": null
         },
         {
          "count": 21155,
          "id_30": "Windows 10"
         },
         {
          "count": 13110,
          "id_30": "Windows 7"
         },
         {
          "count": 3722,
          "id_30": "iOS 11.2.1"
         },
         {
          "count": 3699,
          "id_30": "iOS 11.1.2"
         },
         {
          "count": 2871,
          "id_30": "Android 7.0"
         },
         {
          "count": 2559,
          "id_30": "Mac OS X 10_12_6"
         },
         {
          "count": 2348,
          "id_30": "Mac OS X 10_11_6"
         },
         {
          "count": 2016,
          "id_30": "iOS 11.3.0"
         },
         {
          "count": 1914,
          "id_30": "Windows 8.1"
         },
         {
          "count": 1651,
          "id_30": "Mac OS X 10_10_5"
         },
         {
          "count": 1647,
          "id_30": "iOS 11.2.6"
         },
         {
          "count": 1558,
          "id_30": "iOS 10.3.3"
         },
         {
          "count": 1421,
          "id_30": "Mac OS X 10_13_2"
         },
         {
          "count": 1211,
          "id_30": "Mac OS X 10_13_1"
         },
         {
          "count": 1200,
          "id_30": "iOS 11.2.5"
         },
         {
          "count": 1136,
          "id_30": "Linux"
         },
         {
          "count": 1079,
          "id_30": "Android"
         },
         {
          "count": 902,
          "id_30": "iOS 11.2.2"
         },
         {
          "count": 860,
          "id_30": "Mac OS X 10_13_3"
         },
         {
          "count": 852,
          "id_30": "iOS 11.2.0"
         },
         {
          "count": 759,
          "id_30": "Mac OS X 10_13_4"
         },
         {
          "count": 700,
          "id_30": "iOS 11.1.1"
         },
         {
          "count": 659,
          "id_30": "iOS 11.0.3"
         },
         {
          "count": 630,
          "id_30": "Android 7.1.1"
         },
         {
          "count": 570,
          "id_30": "Mac OS X 10_9_5"
         },
         {
          "count": 566,
          "id_30": "Android 6.0.1"
         },
         {
          "count": 428,
          "id_30": "iOS 10.3.2"
         },
         {
          "count": 414,
          "id_30": "iOS 9.3.5"
         },
         {
          "count": 350,
          "id_30": "Android 5.1.1"
         },
         {
          "count": 343,
          "id_30": "Android 8.0.0"
         },
         {
          "count": 303,
          "id_30": "Mac"
         },
         {
          "count": 287,
          "id_30": "Mac OS X 10.13"
         },
         {
          "count": 285,
          "id_30": "iOS 10.2.1"
         },
         {
          "count": 274,
          "id_30": "iOS"
         },
         {
          "count": 271,
          "id_30": "iOS 11.1.0"
         },
         {
          "count": 246,
          "id_30": "Windows Vista"
         },
         {
          "count": 236,
          "id_30": "iOS 10.3.1"
         },
         {
          "count": 218,
          "id_30": "Mac OS X 10.12"
         },
         {
          "count": 217,
          "id_30": "Mac OS X 10_12_5"
         }
        ],
        "data-b834df04e00b6399c72eb52e59741b20": [
         {
          "DeviceType": null,
          "count": 449730
         },
         {
          "DeviceType": "desktop",
          "count": 85165
         },
         {
          "DeviceType": "mobile",
          "count": 55645
         }
        ],
        "data-c10d2105c4d9593e67b88f7e232caa25": [
         {
          "DeviceInfo": null,
          "count": 471874
         },
         {
          "DeviceInfo": "Windows",
          "count": 47722
         },
         {
          "DeviceInfo": "iOS Device",
          "count": 19782
         },
         {
          "DeviceInfo": "MacOS",
          "count": 12573
         },
         {
          "DeviceInfo": "Trident/7.0",
          "count": 7440
         },
         {
          "DeviceInfo": "rv:11.0",
          "count": 1901
         },
         {
          "DeviceInfo": "rv:57.0",
          "count": 962
         },
         {
          "DeviceInfo": "SM-J700M Build/MMB29K",
          "count": 549
         },
         {
          "DeviceInfo": "SM-G610M Build/MMB29K",
          "count": 461
         },
         {
          "DeviceInfo": "SM-G531H Build/LMY48B",
          "count": 410
         },
         {
          "DeviceInfo": "rv:59.0",
          "count": 362
         },
         {
          "DeviceInfo": "SM-G935F Build/NRD90M",
          "count": 334
         },
         {
          "DeviceInfo": "SM-G955U Build/NRD90M",
          "count": 328
         },
         {
          "DeviceInfo": "SM-G532M Build/MMB29T",
          "count": 316
         },
         {
          "DeviceInfo": "ALE-L23 Build/HuaweiALE-L23",
          "count": 312
         },
         {
          "DeviceInfo": "SM-G950U Build/NRD90M",
          "count": 290
         },
         {
          "DeviceInfo": "SM-G930V Build/NRD90M",
          "count": 274
         },
         {
          "DeviceInfo": "rv:58.0",
          "count": 269
         },
         {
          "DeviceInfo": "rv:52.0",
          "count": 256
         },
         {
          "DeviceInfo": "SAMSUNG",
          "count": 235
         },
         {
          "DeviceInfo": "SM-G950F Build/NRD90M",
          "count": 225
         },
         {
          "DeviceInfo": "Moto G (4) Build/NPJ25.93-14.7",
          "count": 219
         },
         {
          "DeviceInfo": "SM-N950U Build/NMF26X",
          "count": 209
         },
         {
          "DeviceInfo": "SM-A300H Build/LRX22G",
          "count": 203
         },
         {
          "DeviceInfo": "hi6210sft Build/MRA58K",
          "count": 190
         },
         {
          "DeviceInfo": "SM-J730GM Build/NRD90M",
          "count": 184
         },
         {
          "DeviceInfo": "SM-G570M Build/MMB29K",
          "count": 182
         },
         {
          "DeviceInfo": "rv:48.0",
          "count": 178
         },
         {
          "DeviceInfo": "CAM-L03 Build/HUAWEICAM-L03",
          "count": 172
         },
         {
          "DeviceInfo": "SM-J320M Build/LMY47V",
          "count": 171
         },
         {
          "DeviceInfo": "LG-M700 Build/NMF26X",
          "count": 169
         },
         {
          "DeviceInfo": "Moto E (4) Plus Build/NMA26.42-69",
          "count": 160
         },
         {
          "DeviceInfo": "SM-J510MN Build/MMB29M",
          "count": 157
         },
         {
          "DeviceInfo": "SM-J701M Build/NRD90M",
          "count": 154
         },
         {
          "DeviceInfo": "LG-D693n Build/LRX22G",
          "count": 150
         },
         {
          "DeviceInfo": "Moto G (4) Build/NPJS25.93-14-13",
          "count": 147
         },
         {
          "DeviceInfo": "SM-A520F Build/NRD90M",
          "count": 144
         },
         {
          "DeviceInfo": "SM-G930F Build/NRD90M",
          "count": 144
         },
         {
          "DeviceInfo": "SM-G935V Build/NRD90M",
          "count": 137
         },
         {
          "DeviceInfo": "LG-K410 Build/LRX22G",
          "count": 136
         }
        ]
       },
       "vconcat": [
        {
         "data": {
          "name": "data-7e51b6874dd5ea9046a09b7e51a17ef8"
         },
         "encoding": {
          "tooltip": [
           {
            "field": "id_30",
            "type": "nominal"
           },
           {
            "field": "count",
            "type": "quantitative"
           }
          ],
          "x": {
           "axis": {
            "title": "id_30"
           },
           "field": "id_30",
           "type": "nominal"
          },
          "y": {
           "axis": {
            "title": "Count"
           },
           "field": "count",
           "type": "quantitative"
          }
         },
         "mark": "bar",
         "title": "Counts of id_30",
         "width": 800
        },
        {
         "data": {
          "name": "data-05c6f1c47a207e3817ecb1324aeffd29"
         },
         "encoding": {
          "tooltip": [
           {
            "field": "id_31",
            "type": "nominal"
           },
           {
            "field": "count",
            "type": "quantitative"
           }
          ],
          "x": {
           "axis": {
            "title": "id_31"
           },
           "field": "id_31",
           "type": "nominal"
          },
          "y": {
           "axis": {
            "title": "Count"
           },
           "field": "count",
           "type": "quantitative"
          }
         },
         "mark": "bar",
         "title": "Counts of id_31",
         "width": 800
        },
        {
         "data": {
          "name": "data-7c6a9bf5c2e659d1d7454a11ece93f45"
         },
         "encoding": {
          "tooltip": [
           {
            "field": "id_33",
            "type": "nominal"
           },
           {
            "field": "count",
            "type": "quantitative"
           }
          ],
          "x": {
           "axis": {
            "title": "id_33"
           },
           "field": "id_33",
           "type": "nominal"
          },
          "y": {
           "axis": {
            "title": "Count"
           },
           "field": "count",
           "type": "quantitative"
          }
         },
         "mark": "bar",
         "title": "Counts of id_33",
         "width": 800
        },
        {
         "data": {
          "name": "data-b834df04e00b6399c72eb52e59741b20"
         },
         "encoding": {
          "tooltip": [
           {
            "field": "DeviceType",
            "type": "nominal"
           },
           {
            "field": "count",
            "type": "quantitative"
           }
          ],
          "x": {
           "axis": {
            "title": "DeviceType"
           },
           "field": "DeviceType",
           "type": "nominal"
          },
          "y": {
           "axis": {
            "title": "Count"
           },
           "field": "count",
           "type": "quantitative"
          }
         },
         "mark": "bar",
         "title": "Counts of DeviceType",
         "width": 800
        },
        {
         "data": {
          "name": "data-c10d2105c4d9593e67b88f7e232caa25"
         },
         "encoding": {
          "tooltip": [
           {
            "field": "DeviceInfo",
            "type": "nominal"
           },
           {
            "field": "count",
            "type": "quantitative"
           }
          ],
          "x": {
           "axis": {
            "title": "DeviceInfo"
           },
           "field": "DeviceInfo",
           "type": "nominal"
          },
          "y": {
           "axis": {
            "title": "Count"
           },
           "field": "count",
           "type": "quantitative"
          }
         },
         "mark": "bar",
         "title": "Counts of DeviceInfo",
         "width": 800
        }
       ]
      },
      "image/png": "[encoded data removed]",
      "text/plain": [
       "<VegaLite 3 object>\n",
       "\n",
       "If you see this message, it means the renderer has not been properly enabled\n",
       "for the frontend that you are using. For more information, see\n",
       "https://altair-viz.github.io/user_guide/troubleshooting.html\n"
      ]
     },
     "execution_count": 21,
     "metadata": {},
     "output_type": "execute_result"
    }
   ],
   "source": [
    "charts = {}\n",
    "for i in ['id_30', 'id_31', 'id_33', 'DeviceType', 'DeviceInfo']:\n",
    "    feature_count = ds.X_train[i].value_counts(dropna=False)[:40].reset_index().rename(columns={i: 'count', 'index': i})\n",
    "    chart = alt.Chart(feature_count).mark_bar().encode(\n",
    "                x=alt.X(f\"{i}:N\", axis=alt.Axis(title=i)),\n",
    "                y=alt.Y('count:Q', axis=alt.Axis(title='Count')),\n",
    "                tooltip=[i, 'count']\n",
    "            ).properties(title=f\"Counts of {i}\", width=800)\n",
    "    charts[i] = chart\n",
    "    \n",
    "charts['id_30'] & charts['id_31'] & charts['id_33'] & charts['DeviceType'] & charts['DeviceInfo']"
   ]
  },
  {
   "cell_type": "markdown",
   "metadata": {},
   "source": [
    "## TransactionDT"
   ]
  },
  {
   "cell_type": "code",
   "execution_count": 22,
   "metadata": {},
   "outputs": [
    {
     "data": {
      "image/png": "[encoded data removed]",
      "text/plain": [
       "<Figure size 432x288 with 1 Axes>"
      ]
     },
     "metadata": {
      "needs_background": "light"
     },
     "output_type": "display_data"
    }
   ],
   "source": [
    "plt.hist(ds.X_train['TransactionDT'], label='train');\n",
    "plt.hist(ds.X_test['TransactionDT'], label='test');\n",
    "plt.legend();\n",
    "plt.title('Distribution of transactiond dates');"
   ]
  },
  {
   "cell_type": "code",
   "execution_count": 23,
   "metadata": {},
   "outputs": [
    {
     "ename": "NameError",
     "evalue": "name 'horizontal_histogram' is not defined",
     "output_type": "error",
     "traceback": [
      "\u001b[1;31m---------------------------------------------------------------------------\u001b[0m",
      "\u001b[1;31mNameError\u001b[0m                                 Traceback (most recent call last)",
      "\u001b[1;32m<ipython-input-23-5fea14092a1e>\u001b[0m in \u001b[0;36m<module>\u001b[1;34m\u001b[0m\n\u001b[0;32m      1\u001b[0m \u001b[0mcharts\u001b[0m \u001b[1;33m=\u001b[0m \u001b[1;33m{\u001b[0m\u001b[1;33m}\u001b[0m\u001b[1;33m\u001b[0m\u001b[1;33m\u001b[0m\u001b[0m\n\u001b[0;32m      2\u001b[0m \u001b[1;32mfor\u001b[0m \u001b[0mi\u001b[0m \u001b[1;32min\u001b[0m \u001b[1;33m[\u001b[0m\u001b[1;34m'ProductCD'\u001b[0m\u001b[1;33m,\u001b[0m \u001b[1;34m'card4'\u001b[0m\u001b[1;33m,\u001b[0m \u001b[1;34m'card6'\u001b[0m\u001b[1;33m,\u001b[0m \u001b[1;34m'M4'\u001b[0m\u001b[1;33m,\u001b[0m \u001b[1;34m'M1'\u001b[0m\u001b[1;33m,\u001b[0m \u001b[1;34m'M2'\u001b[0m\u001b[1;33m,\u001b[0m \u001b[1;34m'M3'\u001b[0m\u001b[1;33m,\u001b[0m \u001b[1;34m'M5'\u001b[0m\u001b[1;33m,\u001b[0m \u001b[1;34m'M6'\u001b[0m\u001b[1;33m,\u001b[0m \u001b[1;34m'M7'\u001b[0m\u001b[1;33m,\u001b[0m \u001b[1;34m'M8'\u001b[0m\u001b[1;33m,\u001b[0m \u001b[1;34m'M9'\u001b[0m\u001b[1;33m]\u001b[0m\u001b[1;33m:\u001b[0m\u001b[1;33m\u001b[0m\u001b[1;33m\u001b[0m\u001b[0m\n\u001b[1;32m----> 3\u001b[1;33m     \u001b[0mhorizontal_histogram\u001b[0m\u001b[1;33m(\u001b[0m\u001b[0mds\u001b[0m\u001b[1;33m.\u001b[0m\u001b[0mX_train\u001b[0m\u001b[1;33m,\u001b[0m \u001b[0mi\u001b[0m\u001b[1;33m)\u001b[0m\u001b[1;33m\u001b[0m\u001b[1;33m\u001b[0m\u001b[0m\n\u001b[0m\u001b[0;32m      4\u001b[0m     \u001b[0mcharts\u001b[0m\u001b[1;33m[\u001b[0m\u001b[0mi\u001b[0m\u001b[1;33m]\u001b[0m \u001b[1;33m=\u001b[0m \u001b[0mchart\u001b[0m\u001b[1;33m\u001b[0m\u001b[1;33m\u001b[0m\u001b[0m\n\u001b[0;32m      5\u001b[0m \u001b[1;33m\u001b[0m\u001b[0m\n",
      "\u001b[1;31mNameError\u001b[0m: name 'horizontal_histogram' is not defined"
     ]
    }
   ],
   "source": [
    "charts = {}\n",
    "for i in ['ProductCD', 'card4', 'card6', 'M4', 'M1', 'M2', 'M3', 'M5', 'M6', 'M7', 'M8', 'M9']:\n",
    "    horizontal_histogram(ds.X_train, i)\n",
    "    charts[i] = chart                         \n",
    "    \n",
    "(charts['ProductCD'] | charts['card4']) & (charts['card6'] | charts['M4']) & (charts['card6'] | charts['M4']) & (charts['M1'] | charts['M2']) & (charts['M3'] | charts['M5']) & (charts['M6'] | charts['M7']) & (charts['M8'] | charts['M9'])"
   ]
  },
  {
   "cell_type": "code",
   "execution_count": null,
   "metadata": {},
   "outputs": [],
   "source": [
    "charts = {}\n",
    "for i in ['P_emaildomain', 'R_emaildomain', 'card1', 'card2', 'card3',  'card5', 'addr1', 'addr2']:\n",
    "    feature_count = ds.X_train[i].value_counts(dropna=False).reset_index()[:40].rename(columns={i: 'count', 'index': i})\n",
    "    chart = alt.Chart(feature_count).mark_bar().encode(\n",
    "                x=alt.X(f\"{i}:N\", axis=alt.Axis(title=i)),\n",
    "                y=alt.Y('count:Q', axis=alt.Axis(title='Count')),\n",
    "                tooltip=[i, 'count']\n",
    "            ).properties(title=f\"Counts of {i}\", width=600)\n",
    "    charts[i] = chart\n",
    "    \n",
    "(charts['P_emaildomain'] | charts['R_emaildomain']) & (charts['card1'] | charts['card2']) & (charts['card3'] | charts['card5']) & (charts['addr1'] | charts['addr2'])"
   ]
  },
  {
   "cell_type": "code",
   "execution_count": null,
   "metadata": {},
   "outputs": [],
   "source": []
  }
 ],
 "metadata": {
  "kernelspec": {
   "display_name": "Python 3",
   "language": "python",
   "name": "python3"
  },
  "language_info": {
   "codemirror_mode": {
    "name": "ipython",
    "version": 3
   },
   "file_extension": ".py",
   "mimetype": "text/x-python",
   "name": "python",
   "nbconvert_exporter": "python",
   "pygments_lexer": "ipython3",
   "version": "3.6.8"
  }
 },
 "nbformat": 4,
 "nbformat_minor": 4
}
